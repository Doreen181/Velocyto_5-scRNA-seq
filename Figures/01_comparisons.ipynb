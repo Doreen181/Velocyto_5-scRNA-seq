{
 "cells": [
  {
   "cell_type": "markdown",
   "id": "e0175ba7-f830-4bcc-ac02-2b9e2eb18224",
   "metadata": {},
   "source": [
    "# Comparison of velocyto vs. Alevin-fry"
   ]
  },
  {
   "cell_type": "code",
   "execution_count": 15,
   "id": "691fa2a1-bb3a-40fb-9a25-40c3f8f1c5c2",
   "metadata": {},
   "outputs": [],
   "source": [
    "import warnings\n",
    "warnings.filterwarnings(action='ignore')\n",
    "\n",
    "import numpy as np\n",
    "import pandas as pd\n",
    "import scanpy as sc\n",
    "import scvelo as scv\n",
    "import matplotlib as mpl\n",
    "from scipy import stats\n",
    "from sklearn.metrics.pairwise import cosine_similarity\n",
    "import gzip\n",
    "import pickle"
   ]
  },
  {
   "cell_type": "markdown",
   "id": "ade87f08-e229-46c3-86bc-a75bc3be30df",
   "metadata": {},
   "source": [
    "## Load data"
   ]
  },
  {
   "cell_type": "code",
   "execution_count": 2,
   "id": "c37bf0cf-7438-431f-b63f-f585b1c5b970",
   "metadata": {},
   "outputs": [],
   "source": [
    "# Load AnnData objects\n",
    "adatas = {\n",
    "    dataset: {\n",
    "        method: sc.read_h5ad(\n",
    "            f\"../{dataset.capitalize()}/data/{dataset}_{method}_sto.h5ad\"\n",
    "        ) for method in [\"velocyto\", \"alevin\"]\n",
    "    } for dataset in [\"stewart\", \"mathew\", \"fu\"]\n",
    "}"
   ]
  },
  {
   "cell_type": "code",
   "execution_count": 3,
   "id": "6f5ea8f0-d754-4ce8-91d0-49f3a4a36db5",
   "metadata": {},
   "outputs": [],
   "source": [
    "adatas[\"fu\"][\"velocyto\"].obs[\"cluster\"] = adatas[\"fu\"][\"velocyto\"].obs[\"cluster\"].astype(str).replace(\"nan\", \"Others\").astype(\"category\")\n",
    "adatas[\"fu\"][\"alevin\"].obs[\"cluster\"] = adatas[\"fu\"][\"alevin\"].obs[\"cluster\"].astype(str).replace(\"nan\", \"Others\").astype(\"category\")"
   ]
  },
  {
   "cell_type": "code",
   "execution_count": 4,
   "id": "b4b4a624-52aa-46e8-8287-d6a6be6f0f8a",
   "metadata": {},
   "outputs": [],
   "source": [
    "# Separate Fu into paired-end and single-end\n",
    "fu_se_samples = [\"MJ001\", \"MJ002\", \"MJ003\", \"MJ017\", \"MJ016\"]\n",
    "adatas[\"fu_se\"] = {\n",
    "    tool: adata[adata.obs[\"id\"].isin(fu_se_samples), :]\n",
    "    for tool, adata in adatas[\"fu\"].items()\n",
    "}\n",
    "adatas[\"fu_pe\"] = {\n",
    "    tool: adata[~adata.obs[\"id\"].isin(fu_se_samples), :]\n",
    "    for tool, adata in adatas[\"fu\"].items()\n",
    "}"
   ]
  },
  {
   "cell_type": "code",
   "execution_count": 5,
   "id": "ef4911c5-3dfe-4e28-b980-7667d2a00452",
   "metadata": {},
   "outputs": [],
   "source": [
    "# Check that the velocyto and alevin-fry datasets have the same cells/genes\n",
    "for dataset, tool_dict in adatas.items():\n",
    "    assert np.all(\n",
    "        tool_dict[\"velocyto\"].obs_names == tool_dict[\"alevin\"].obs_names\n",
    "    ), f\"Different cells for velocyto and alevin on {dataset}\"\n",
    "    assert np.all(\n",
    "        tool_dict[\"velocyto\"].var_names == tool_dict[\"alevin\"].var_names\n",
    "    ), f\"Different genes for velocyto and alevin on {dataset}\""
   ]
  },
  {
   "cell_type": "code",
   "execution_count": 6,
   "id": "5880ddd1-79fb-4a26-97bf-d88c9e1e25e4",
   "metadata": {},
   "outputs": [],
   "source": [
    "# Mappings for plot labelling\n",
    "method_dict = {\n",
    "    \"velocyto\": \"Velocyto\",\n",
    "    \"alevin\": \"Alevin-fry\",\n",
    "    \"cellranger\": \"Cell Ranger\"\n",
    "}\n",
    "dataset_dict = {\n",
    "    \"stewart\": \"Stewart et al.\",\n",
    "    \"mathew\": \"Mathew et al.\",\n",
    "    \"fu\": \"Fu et al.\",\n",
    "    \"fu_se\": \"Fu et al. (SE)\",\n",
    "    \"fu_pe\": \"Fu et al. (PE)\"\n",
    "}"
   ]
  },
  {
   "cell_type": "markdown",
   "id": "5cd3505c-7db7-4452-aaf6-3918221de3f8",
   "metadata": {},
   "source": [
    "## Figure 1: Compare counts"
   ]
  },
  {
   "cell_type": "code",
   "execution_count": 7,
   "id": "87349cc5-689e-4921-9be5-a2f709cf4b5b",
   "metadata": {},
   "outputs": [],
   "source": [
    "# Calculate total counts per cell\n",
    "total_counts_df = pd.concat(\n",
    "    [\n",
    "        pd.DataFrame(\n",
    "            data={\n",
    "                tool: np.asarray(\n",
    "                    adata.layers[\"spliced_counts\"].sum(axis=1) +\n",
    "                    adata.layers[\"unspliced_counts\"].sum(axis=1) +\n",
    "                    adata.layers[\"ambiguous_counts\"].sum(axis=1)\n",
    "                ).ravel() for tool, adata in sub_dict.items()\n",
    "            }\n",
    "        ).assign(\n",
    "            dataset=dataset_name,\n",
    "            cellranger=np.asarray(\n",
    "                sub_dict[\"velocyto\"].layers[\"counts\"].sum(axis=1)\n",
    "            ).ravel()\n",
    "        )\n",
    "        for dataset_name, sub_dict in adatas.items() if dataset_name != \"fu\"\n",
    "    ]\n",
    ")\n"
   ]
  },
  {
   "cell_type": "code",
   "execution_count": 8,
   "id": "a9cb02b8-a4d5-4451-98cb-e58842aa2cca",
   "metadata": {},
   "outputs": [],
   "source": [
    "# Calculate count difference between velocyto/alevin-fry with cellranger\n",
    "total_counts_diff = total_counts_df[[\"velocyto\", \"alevin\", \"dataset\"]].copy()\n",
    "total_counts_diff[\"velocyto\"] = total_counts_df[\"cellranger\"] - total_counts_diff[\"velocyto\"]\n",
    "total_counts_diff[\"alevin\"] = total_counts_df[\"cellranger\"] - total_counts_diff[\"alevin\"]\n",
    "\n",
    "total_counts_df = total_counts_df.melt(\n",
    "    id_vars=\"dataset\", var_name=\"method\", value_name=\"counts\"\n",
    ")\n",
    "total_counts_diff= total_counts_diff.melt(\n",
    "    id_vars=\"dataset\", var_name=\"method\", value_name=\"difference\"\n",
    ")"
   ]
  },
  {
   "cell_type": "code",
   "execution_count": 9,
   "id": "77d54e1a-01f8-4c46-976a-b3fa55dda96c",
   "metadata": {},
   "outputs": [],
   "source": [
    "# Correlations of spliced counts with CellRanger counts of same gene\n",
    "spliced_total_corrs = pd.concat(\n",
    "    [\n",
    "        pd.DataFrame(\n",
    "            data={\n",
    "                \"velocyto\": stats.pearsonr(\n",
    "                    sub_dict[\"velocyto\"].layers[\"counts\"].toarray(),\n",
    "                    sub_dict[\"velocyto\"].layers[\"spliced_counts\"].toarray(),\n",
    "                    axis=0\n",
    "                )[0],\n",
    "                \"alevin\": stats.pearsonr(\n",
    "                    sub_dict[\"velocyto\"].layers[\"counts\"].toarray(),\n",
    "                    sub_dict[\"alevin\"].layers[\"spliced_counts\"].toarray(),\n",
    "                    axis=0\n",
    "                )[0],\n",
    "                \"dataset\": dataset\n",
    "            }\n",
    "        )\n",
    "        for dataset, sub_dict in adatas.items() if dataset != \"fu\"\n",
    "    ]\n",
    ").melt(\n",
    "    id_vars=\"dataset\", var_name=\"method\", value_name=\"pearsonr\"\n",
    ")"
   ]
  },
  {
   "cell_type": "code",
   "execution_count": 10,
   "id": "9b530789-8e38-4ee2-85dc-be684f0d3d25",
   "metadata": {},
   "outputs": [],
   "source": [
    "# Calculate ratio of unspliced counts per cell\n",
    "unspliced_ratios = pd.concat(\n",
    "    [\n",
    "        pd.DataFrame(\n",
    "            data={\n",
    "                tool: np.asarray(\n",
    "                    adata.layers[\"unspliced_counts\"].sum(axis=1) /\n",
    "                    (\n",
    "                        adata.layers[\"spliced_counts\"].sum(axis=1) +\n",
    "                        adata.layers[\"unspliced_counts\"].sum(axis=1) +\n",
    "                        adata.layers[\"ambiguous_counts\"].sum(axis=1)\n",
    "                    )\n",
    "                ).ravel() * 100 for tool, adata in sub_dict.items()\n",
    "            }\n",
    "        ).assign(dataset=dataset)\n",
    "        for dataset, sub_dict in adatas.items() if dataset != \"fu\"\n",
    "    ]\n",
    ").melt(\n",
    "    id_vars=\"dataset\", var_name=\"method\", value_name=\"unspliced_ratio\"\n",
    ")"
   ]
  },
  {
   "cell_type": "code",
   "execution_count": 11,
   "id": "4b300b1c-5486-4989-aae3-f350c16ec334",
   "metadata": {},
   "outputs": [],
   "source": [
    "# save\n",
    "total_counts_df.to_parquet(\"data/1_total_counts.parquet.gzip\", compression=\"gzip\", index=True)\n",
    "total_counts_diff.to_parquet(\"data/1_total_counts_diff.parquet.gzip\", compression=\"gzip\", index=True)\n",
    "spliced_total_corrs.to_parquet(\"data/1_spliced_total_corrs.parquet.gzip\", compression=\"gzip\", index=True)\n",
    "unspliced_ratios.to_parquet(\"data/1_unspliced_ratios.parquet.gzip\", compression=\"gzip\", index=True)"
   ]
  },
  {
   "cell_type": "markdown",
   "id": "8ed1ca35-8183-4d80-8119-160c0616842b",
   "metadata": {},
   "source": [
    "## Figure 2: Correlations of overlapping genes"
   ]
  },
  {
   "cell_type": "code",
   "execution_count": 12,
   "id": "6cbc6893-9b81-44cb-809b-b69a03f102f5",
   "metadata": {},
   "outputs": [],
   "source": [
    "# Get overlapping genes\n",
    "overlapping_genes = {\n",
    "    \"stewart\": pd.read_pickle(\n",
    "        \"../Stewart/data/stewart_overlapping_genes.pkl.gz\",\n",
    "        compression=\"gzip\"\n",
    "    ),\n",
    "    \"mathew\": pd.read_pickle(\n",
    "        \"../Mathew/data/mathew_overlapping_genes.pkl.gz\",\n",
    "        compression='gzip'\n",
    "    ),\n",
    "    \"fu\": pd.read_pickle(\n",
    "        \"../Fu/data/fu_overlapping_genes.pkl.gz\",\n",
    "        compression='gzip'\n",
    "    )\n",
    "}\n",
    "\n",
    "# Subset to only genes with mean expression >= 1\n",
    "overlapping_genes = {\n",
    "    dataset: df[df[\"mean counts cellranger\"] >= 1].sort_values(\n",
    "        by=[\"rel_overlap\", \"overlap_length\"], ascending=False\n",
    "    ) for  dataset, df in overlapping_genes.items()\n",
    "}\n",
    "\n",
    "overlapping_genes[\"fu_pe\"] = overlapping_genes[\"fu\"]\n",
    "overlapping_genes[\"fu_se\"] = overlapping_genes[\"fu\"]"
   ]
  },
  {
   "cell_type": "code",
   "execution_count": 13,
   "id": "52446efb-715e-4195-9aa3-21239a3491d6",
   "metadata": {},
   "outputs": [],
   "source": [
    "# Get Pearson correlations\n",
    "corrs_overlapping = pd.concat(\n",
    "    [\n",
    "        # <= 50% overlap\n",
    "        pd.DataFrame(\n",
    "            data={\n",
    "                \"velocyto\": stats.pearsonr(\n",
    "                    sub_dict[\"velocyto\"][:, overlapping_genes[dataset][\n",
    "                        overlapping_genes[dataset].rel_overlap <= 0.5\n",
    "                    ].index.get_level_values(0)].layers[\"counts\"].toarray(),\n",
    "                    sub_dict[\"velocyto\"][:, overlapping_genes[dataset][\n",
    "                        overlapping_genes[dataset].rel_overlap <= 0.5\n",
    "                    ].index.get_level_values(1)].layers[\"unspliced_counts\"].toarray(),\n",
    "                    axis=0\n",
    "                )[0],\n",
    "                \"alevin\": stats.pearsonr(\n",
    "                    sub_dict[\"velocyto\"][:, overlapping_genes[dataset][\n",
    "                        overlapping_genes[dataset].rel_overlap <= 0.5\n",
    "                    ].index.get_level_values(0)].layers[\"counts\"].toarray(),\n",
    "                    sub_dict[\"alevin\"][:, overlapping_genes[dataset][\n",
    "                        overlapping_genes[dataset].rel_overlap <= 0.5\n",
    "                    ].index.get_level_values(1)].layers[\"unspliced_counts\"].toarray(),\n",
    "                    axis=0\n",
    "                )[0],\n",
    "                \"dataset\": dataset,\n",
    "                \"overlap\": \"overlap $\\leq50\\%$\"\n",
    "            }\n",
    "        )\n",
    "        for dataset, sub_dict in adatas.items() if dataset != \"fu\"\n",
    "    ] + [\n",
    "        # > 50%, <= 75% overlap\n",
    "        pd.DataFrame(\n",
    "            data={\n",
    "                \"velocyto\": stats.pearsonr(\n",
    "                    sub_dict[\"velocyto\"][:, overlapping_genes[dataset][\n",
    "                        (overlapping_genes[dataset].rel_overlap > 0.5) &\n",
    "                        (overlapping_genes[dataset].rel_overlap <= 0.75)\n",
    "                    ].index.get_level_values(0)].layers[\"counts\"].toarray(),\n",
    "                    sub_dict[\"velocyto\"][:, overlapping_genes[dataset][\n",
    "                        (overlapping_genes[dataset].rel_overlap > 0.5) &\n",
    "                        (overlapping_genes[dataset].rel_overlap <= 0.75)\n",
    "                    ].index.get_level_values(1)].layers[\"unspliced_counts\"].toarray(),\n",
    "                    axis=0\n",
    "                )[0],\n",
    "                \"alevin\": stats.pearsonr(\n",
    "                    sub_dict[\"velocyto\"][:, overlapping_genes[dataset][\n",
    "                        (overlapping_genes[dataset].rel_overlap > 0.5) &\n",
    "                        (overlapping_genes[dataset].rel_overlap <= 0.75)\n",
    "                    ].index.get_level_values(0)].layers[\"counts\"].toarray(),\n",
    "                    sub_dict[\"alevin\"][:, overlapping_genes[dataset][\n",
    "                        (overlapping_genes[dataset].rel_overlap > 0.5) &\n",
    "                        (overlapping_genes[dataset].rel_overlap <= 0.75)\n",
    "                    ].index.get_level_values(1)].layers[\"unspliced_counts\"].toarray(),\n",
    "                    axis=0\n",
    "                )[0],\n",
    "                \"dataset\": dataset,\n",
    "                \"overlap\": \"$50\\%<$ overlap $\\leq75\\%$\"\n",
    "            }\n",
    "        )\n",
    "        for dataset, sub_dict in adatas.items() if dataset != \"fu\"\n",
    "    ] + [\n",
    "        # > 75% overlap\n",
    "        pd.DataFrame(\n",
    "            data={\n",
    "                \"velocyto\": stats.pearsonr(\n",
    "                    sub_dict[\"velocyto\"][:, overlapping_genes[dataset][\n",
    "                        overlapping_genes[dataset].rel_overlap > 0.75\n",
    "                    ].index.get_level_values(0)].layers[\"counts\"].toarray(),\n",
    "                    sub_dict[\"velocyto\"][:, overlapping_genes[dataset][\n",
    "                        overlapping_genes[dataset].rel_overlap > 0.75\n",
    "                    ].index.get_level_values(1)].layers[\"unspliced_counts\"].toarray(),\n",
    "                    axis=0\n",
    "                )[0],\n",
    "                \"alevin\": stats.pearsonr(\n",
    "                    sub_dict[\"velocyto\"][:, overlapping_genes[dataset][\n",
    "                        overlapping_genes[dataset].rel_overlap > 0.75\n",
    "                    ].index.get_level_values(0)].layers[\"counts\"].toarray(),\n",
    "                    sub_dict[\"alevin\"][:, overlapping_genes[dataset][\n",
    "                        overlapping_genes[dataset].rel_overlap > 0.75\n",
    "                    ].index.get_level_values(1)].layers[\"unspliced_counts\"].toarray(),\n",
    "                    axis=0\n",
    "                )[0],\n",
    "                \"dataset\": dataset,\n",
    "                \"overlap\": \"> 75%\"\n",
    "            }\n",
    "        )\n",
    "        for dataset, sub_dict in adatas.items() if dataset != \"fu\"\n",
    "    ]\n",
    ").melt(\n",
    "    id_vars=[\"dataset\", \"overlap\"], var_name=\"method\", value_name=\"pearsonr\"\n",
    ")"
   ]
  },
  {
   "cell_type": "code",
   "execution_count": 16,
   "id": "643edfaf-3756-4fb7-8889-a81bd8f576f9",
   "metadata": {},
   "outputs": [],
   "source": [
    "# save\n",
    "with gzip.open(\"data/2_overlapping_genes.gz\", \"wb\") as f:\n",
    "    pickle.dump(overlapping_genes, f)\n",
    "\n",
    "corrs_overlapping.to_parquet(\"data/2_corrs_overlapping.parquet.gzip\", compression=\"gzip\", index=True)"
   ]
  },
  {
   "cell_type": "markdown",
   "id": "675b2f67-9382-441d-8dfa-23108a6b90e2",
   "metadata": {},
   "source": [
    "## Figure 3: Velocity genes"
   ]
  },
  {
   "cell_type": "code",
   "execution_count": 17,
   "id": "56b08ba1-2bc1-4f80-94ab-4d3f64504619",
   "metadata": {},
   "outputs": [],
   "source": [
    "# Get velocity genes overlaps\n",
    "velocity_genes_df = pd.DataFrame(\n",
    "    data={\n",
    "        \"velocyto\": [\n",
    "            np.sum(\n",
    "                sub_dict[\"velocyto\"].var[\"velocity_genes\"] &\n",
    "                ~sub_dict[\"alevin\"].var[\"velocity_genes\"]\n",
    "                                     \n",
    "            )\n",
    "            for dataset, sub_dict in adatas.items()\n",
    "        ],\n",
    "        \"alevin\": [\n",
    "            np.sum(\n",
    "                ~sub_dict[\"velocyto\"].var[\"velocity_genes\"] &\n",
    "                sub_dict[\"alevin\"].var[\"velocity_genes\"]\n",
    "                                     \n",
    "            )\n",
    "            for dataset, sub_dict in adatas.items()\n",
    "        ],\n",
    "        \"overlap\": [\n",
    "            np.sum(\n",
    "                sub_dict[\"velocyto\"].var[\"velocity_genes\"] &\n",
    "                sub_dict[\"alevin\"].var[\"velocity_genes\"]\n",
    "                                     \n",
    "            )\n",
    "            for dataset, sub_dict in adatas.items()\n",
    "        ]\n",
    "    },\n",
    "    index = [dataset_dict[key] for key in adatas.keys()]\n",
    ")"
   ]
  },
  {
   "cell_type": "code",
   "execution_count": 18,
   "id": "4b78868b-510c-43bf-be05-d966052a3394",
   "metadata": {},
   "outputs": [],
   "source": [
    "# save\n",
    "velocity_genes_df.to_parquet(\"data/3_velocity_genes.parquet.gz\", compression=\"gzip\", index=True)"
   ]
  },
  {
   "cell_type": "markdown",
   "id": "897e87f0-9da1-43de-99b1-bb0472a76b64",
   "metadata": {},
   "source": [
    "## Figure 4: Comparison of velocities"
   ]
  },
  {
   "cell_type": "code",
   "execution_count": 19,
   "id": "551658cb-e8d1-4185-aa14-499464ba93fc",
   "metadata": {},
   "outputs": [],
   "source": [
    "# Compute cosine similarities of velocities per cell\n",
    "cosine_sims = pd.concat(\n",
    "    [\n",
    "        pd.DataFrame(\n",
    "            {\n",
    "                \"cosine_similarity\": np.diagonal(\n",
    "                    cosine_similarity(\n",
    "                        sub_dict[\"velocyto\"].layers[\"velocity\"], sub_dict[\"alevin\"].layers[\"velocity\"]\n",
    "                    )\n",
    "                ),\n",
    "                \"cluster\": sub_dict[\"velocyto\"].obs[\"cluster\"].copy(),\n",
    "                \"dataset\": dataset\n",
    "            }\n",
    "        )\n",
    "        for dataset, sub_dict in adatas.items() if not dataset.startswith(\"fu_\")\n",
    "    ]\n",
    ")"
   ]
  },
  {
   "cell_type": "code",
   "execution_count": 20,
   "id": "6ce79d91-ac71-43ab-8910-b3aab81d85b7",
   "metadata": {},
   "outputs": [],
   "source": [
    "# Compute pearson correlation of velocities per gene\n",
    "velocity_corrs = pd.concat(\n",
    "    [\n",
    "        pd.DataFrame(\n",
    "            data={\n",
    "                \"pearsonr\": stats.pearsonr(\n",
    "                    sub_dict[\"velocyto\"].layers[\"velocity\"],\n",
    "                    sub_dict[\"alevin\"].layers[\"velocity\"],\n",
    "                    axis=0\n",
    "                )[0],\n",
    "                \"highly_variable\": sub_dict[\"velocyto\"].var[\"highly_variable\"].copy(),\n",
    "                \"dataset\": dataset\n",
    "            }\n",
    "        )\n",
    "        for dataset, sub_dict in adatas.items() if not dataset.startswith(\"fu_\")\n",
    "    ]\n",
    ").reset_index(drop=True)"
   ]
  },
  {
   "cell_type": "code",
   "execution_count": 21,
   "id": "ae83840c-194f-4a0c-a79b-9b3d9b2a1daa",
   "metadata": {},
   "outputs": [],
   "source": [
    "# Get transition probability matrices\n",
    "tpms = {\n",
    "    dataset: {\n",
    "        method: scv.utils.get_transition_matrix(adata)\n",
    "        for method, adata in sub_dict.items()\n",
    "    } for dataset, sub_dict in adatas.items() if not dataset.startswith(\"fu_\")\n",
    "}"
   ]
  },
  {
   "cell_type": "code",
   "execution_count": 22,
   "id": "5dc6dc9c-8d66-4aee-aa14-d2783023097f",
   "metadata": {},
   "outputs": [],
   "source": [
    "# Compute Wasserstein distance of transition probability matrix\n",
    "vals = {\n",
    "    dataset: np.arange(tpm[\"velocyto\"].shape[0])\n",
    "    for dataset, tpm in tpms.items()\n",
    "}\n",
    "wasserstein_dists = pd.concat(\n",
    "    [\n",
    "        pd.DataFrame(\n",
    "            {\n",
    "                \"wasserstein_distance\": [\n",
    "                    stats.wasserstein_distance(\n",
    "                        vals[dataset], vals[dataset], row_vc.toarray()[0], row_af.toarray()[0]\n",
    "                    )\n",
    "                    for row_vc, row_af in zip(tpms[dataset][\"velocyto\"], tpms[dataset][\"alevin\"])\n",
    "                ],\n",
    "                \"cluster\": adatas[dataset][\"velocyto\"].obs[\"cluster\"],\n",
    "                \"dataset\": dataset\n",
    "            }\n",
    "        )\n",
    "        for dataset, sub_dict in tpms.items()\n",
    "    ]\n",
    ")"
   ]
  },
  {
   "cell_type": "code",
   "execution_count": 23,
   "id": "3322e45f-ad22-4ff2-80fa-fd1de6326ea3",
   "metadata": {},
   "outputs": [],
   "source": [
    "# save\n",
    "cosine_sims.to_parquet(\"data/4_cosine_sims.parquet.gzip\", compression=\"gzip\", index=True)\n",
    "velocity_corrs.to_parquet(\"data/4_velocity_corrs.parquet.gzip\", compression=\"gzip\", index=True)\n",
    "wasserstein_dists.to_parquet(\"data/4_wasserstein_dists.parquet.gzip\", compression=\"gzip\", index=True)"
   ]
  },
  {
   "cell_type": "markdown",
   "id": "a617b2ee-c74a-4b2e-8117-c88361c4894b",
   "metadata": {},
   "source": [
    "## Supplementary Figure 7: Are differences in velocities significant?"
   ]
  },
  {
   "cell_type": "code",
   "execution_count": 24,
   "id": "b607cc5e-9503-4b35-88c2-d23aef090ce3",
   "metadata": {},
   "outputs": [],
   "source": [
    "# Get sign changes in velocities\n",
    "sign_changes = pd.concat(\n",
    "    [\n",
    "        pd.DataFrame(\n",
    "            {\n",
    "                \"proportion\": (\n",
    "                    np.sign(sub_dict[\"velocyto\"].layers[\"velocity\"]) != np.sign(sub_dict[\"alevin\"].layers[\"velocity\"])\n",
    "                ).sum(axis=1) / sub_dict[\"velocyto\"].shape[1],\n",
    "                \"dataset\": dataset\n",
    "            }\n",
    "        )\n",
    "        for dataset, sub_dict in adatas.items() if not dataset.startswith(\"fu_\")\n",
    "    ]\n",
    ")"
   ]
  },
  {
   "cell_type": "code",
   "execution_count": 25,
   "id": "ae857bac-2331-4220-8286-265bafcbb068",
   "metadata": {},
   "outputs": [],
   "source": [
    "# Get cosine similarities of velocities between neighboring cells\n",
    "cosine_sims_neighbors = pd.concat(\n",
    "    [\n",
    "        pd.DataFrame(\n",
    "            {\n",
    "                tool: np.diagonal(\n",
    "                    cosine_similarity(\n",
    "                        adata.layers[\"velocity\"],\n",
    "                        adata.layers[\"velocity\"][\n",
    "                            np.argmin(\n",
    "                                np.ma.masked_where(\n",
    "                                    adata.obsp[\"distances\"].toarray() == 0,\n",
    "                                    adata.obsp[\"distances\"].toarray()\n",
    "                                    ),\n",
    "                                axis=1\n",
    "                            )\n",
    "                        ]\n",
    "                    )\n",
    "                ) for tool, adata in sub_dict.items()\n",
    "            } \n",
    "        ).assign(dataset=dataset)\n",
    "        for dataset, sub_dict in adatas.items() if not dataset.startswith(\"fu_\")\n",
    "    ]\n",
    ").melt(\n",
    "    id_vars=\"dataset\", var_name=\"method\", value_name=\"cosine_similarity\"\n",
    ")"
   ]
  },
  {
   "cell_type": "code",
   "execution_count": 28,
   "id": "f5f7ddcc-5139-470f-bcfd-ba02c0c1cc99",
   "metadata": {},
   "outputs": [
    {
     "name": "stdout",
     "output_type": "stream",
     "text": [
      "computing velocity graph (using 30/52 cores)\n"
     ]
    },
    {
     "data": {
      "application/vnd.jupyter.widget-view+json": {
       "model_id": "6a5bf6ceef9e410fb5e91020ae790f6f",
       "version_major": 2,
       "version_minor": 0
      },
      "text/plain": [
       "  0%|          | 0/7257 [00:00<?, ?cells/s]"
      ]
     },
     "metadata": {},
     "output_type": "display_data"
    },
    {
     "name": "stdout",
     "output_type": "stream",
     "text": [
      "    finished (0:00:42) --> added \n",
      "    'velocity_graph', sparse matrix with cosine correlations (adata.uns)\n",
      "computing velocity graph (using 30/52 cores)\n"
     ]
    },
    {
     "data": {
      "application/vnd.jupyter.widget-view+json": {
       "model_id": "fe5bf6b252fc402085b633c194de18c9",
       "version_major": 2,
       "version_minor": 0
      },
      "text/plain": [
       "  0%|          | 0/7257 [00:00<?, ?cells/s]"
      ]
     },
     "metadata": {},
     "output_type": "display_data"
    },
    {
     "name": "stdout",
     "output_type": "stream",
     "text": [
      "    finished (0:00:08) --> added \n",
      "    'velocity_graph', sparse matrix with cosine correlations (adata.uns)\n",
      "computing velocity graph (using 30/52 cores)\n"
     ]
    },
    {
     "data": {
      "application/vnd.jupyter.widget-view+json": {
       "model_id": "a0b4b1e798694e80beab29b64751978c",
       "version_major": 2,
       "version_minor": 0
      },
      "text/plain": [
       "  0%|          | 0/29916 [00:00<?, ?cells/s]"
      ]
     },
     "metadata": {},
     "output_type": "display_data"
    },
    {
     "name": "stdout",
     "output_type": "stream",
     "text": [
      "    finished (0:00:26) --> added \n",
      "    'velocity_graph', sparse matrix with cosine correlations (adata.uns)\n",
      "computing velocity graph (using 30/52 cores)\n"
     ]
    },
    {
     "data": {
      "application/vnd.jupyter.widget-view+json": {
       "model_id": "a754227ced3042aebb73afb1835cc27a",
       "version_major": 2,
       "version_minor": 0
      },
      "text/plain": [
       "  0%|          | 0/29916 [00:00<?, ?cells/s]"
      ]
     },
     "metadata": {},
     "output_type": "display_data"
    },
    {
     "name": "stdout",
     "output_type": "stream",
     "text": [
      "    finished (0:00:28) --> added \n",
      "    'velocity_graph', sparse matrix with cosine correlations (adata.uns)\n",
      "computing velocity graph (using 30/52 cores)\n"
     ]
    },
    {
     "data": {
      "application/vnd.jupyter.widget-view+json": {
       "model_id": "9a3cc586405e45c094604f21467e1bb5",
       "version_major": 2,
       "version_minor": 0
      },
      "text/plain": [
       "  0%|          | 0/50033 [00:00<?, ?cells/s]"
      ]
     },
     "metadata": {},
     "output_type": "display_data"
    },
    {
     "name": "stdout",
     "output_type": "stream",
     "text": [
      "    finished (0:00:49) --> added \n",
      "    'velocity_graph', sparse matrix with cosine correlations (adata.uns)\n",
      "computing velocity graph (using 30/52 cores)\n"
     ]
    },
    {
     "data": {
      "application/vnd.jupyter.widget-view+json": {
       "model_id": "8c344242803d4fd8a2c98084ab8b994b",
       "version_major": 2,
       "version_minor": 0
      },
      "text/plain": [
       "  0%|          | 0/50033 [00:00<?, ?cells/s]"
      ]
     },
     "metadata": {},
     "output_type": "display_data"
    },
    {
     "name": "stdout",
     "output_type": "stream",
     "text": [
      "    finished (0:00:49) --> added \n",
      "    'velocity_graph', sparse matrix with cosine correlations (adata.uns)\n"
     ]
    }
   ],
   "source": [
    "# Get TPMs with union of velocyto and alevin-fry velocity genes\n",
    "tpms_union = {}\n",
    "for dataset, sub_dict in adatas.items():\n",
    "    if dataset.startswith(\"fu_\"):\n",
    "        continue\n",
    "    tpms_union[dataset] = {}\n",
    "    velocity_genes = np.logical_or(\n",
    "        sub_dict[\"velocyto\"].var[\"velocity_genes\"], sub_dict[\"alevin\"].var[\"velocity_genes\"]\n",
    "    )\n",
    "    for tool, adata in sub_dict.items():\n",
    "        adata_ = adata.copy()\n",
    "        adata_.var[\"velocity_genes\"] = velocity_genes\n",
    "        scv.tl.velocity_graph(adata_, n_jobs=30)\n",
    "        tpms_union[dataset][tool] = scv.utils.get_transition_matrix(adata_)\n",
    "        del adata_"
   ]
  },
  {
   "cell_type": "code",
   "execution_count": 30,
   "id": "57171103-a09e-4788-90a4-03a6ef526e21",
   "metadata": {},
   "outputs": [],
   "source": [
    "# Compute Wasserstein distance of transition probability matrix with union of velocity genes\n",
    "vals = {\n",
    "    dataset: np.arange(tpm[\"velocyto\"].shape[0])\n",
    "    for dataset, tpm in tpms_union.items()\n",
    "}\n",
    "wasserstein_dists_union = pd.concat(\n",
    "    [\n",
    "        pd.DataFrame(\n",
    "            {\n",
    "                \"wasserstein_distance\": [\n",
    "                    stats.wasserstein_distance(\n",
    "                        vals[dataset], vals[dataset], row_vc.toarray()[0], row_af.toarray()[0]\n",
    "                    )\n",
    "                    for row_vc, row_af in zip(sub_dict[\"velocyto\"], sub_dict[\"alevin\"])\n",
    "                ],\n",
    "                \"cluster\": adatas[dataset][\"velocyto\"].obs[\"cluster\"],\n",
    "                \"dataset\": dataset\n",
    "            }\n",
    "        )\n",
    "        for dataset, sub_dict in tpms_union.items()\n",
    "    ]\n",
    ")"
   ]
  },
  {
   "cell_type": "code",
   "execution_count": 31,
   "id": "9e5c1e63-0dbf-4a0b-a6e5-8c668503b549",
   "metadata": {},
   "outputs": [],
   "source": [
    "# save\n",
    "sign_changes.to_parquet(\"data/s7_sign_changes.parquet.gzip\", compression=\"gzip\", index=True)\n",
    "cosine_sims_neighbors.to_parquet(\"data/s7_cosine_sims_neighbors.parquet.gzip\", compression=\"gzip\", index=True)\n",
    "wasserstein_dists_union.to_parquet(\"data/s7_wasserstein_dists_union.parquet.gzip\", compression=\"gzip\", index=True)"
   ]
  },
  {
   "cell_type": "code",
   "execution_count": null,
   "id": "63fc1332-0f40-4687-a9d9-7dc9844ce63d",
   "metadata": {},
   "outputs": [],
   "source": []
  }
 ],
 "metadata": {
  "kernelspec": {
   "display_name": "env_jan",
   "language": "python",
   "name": "env_jan"
  },
  "language_info": {
   "codemirror_mode": {
    "name": "ipython",
    "version": 3
   },
   "file_extension": ".py",
   "mimetype": "text/x-python",
   "name": "python",
   "nbconvert_exporter": "python",
   "pygments_lexer": "ipython3",
   "version": "3.10.13"
  }
 },
 "nbformat": 4,
 "nbformat_minor": 5
}
