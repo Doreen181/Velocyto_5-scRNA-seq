{
 "cells": [
  {
   "cell_type": "markdown",
   "id": "b62da5e4-7255-4f1a-b95d-b8efb24dc019",
   "metadata": {},
   "source": [
    "## Stewart: preprocessing of salmon data"
   ]
  },
  {
   "cell_type": "code",
   "execution_count": null,
   "id": "6c22b1d3-a545-412d-8242-7c60b8b8db95",
   "metadata": {},
   "outputs": [],
   "source": [
    "import numpy as np\n",
    "import pandas as pd\n",
    "import scanpy as sc\n",
    "import anndata as ad\n",
    "from scipy.sparse import csr_matrix\n",
    "import matplotlib.pyplot as plt\n",
    "from matplotlib.colors import ListedColormap\n",
    "from matplotlib_venn import venn2\n",
    "import scvelo as scv\n",
    "from pyroe import load_fry\n",
    "import re\n",
    "import louvain\n",
    "from skmisc.loess import loess"
   ]
  },
  {
   "cell_type": "markdown",
   "id": "4648af1e-b621-4352-b8d9-e476dff902bd",
   "metadata": {},
   "source": [
    "#### create colormap for UMAPs"
   ]
  },
  {
   "cell_type": "code",
   "execution_count": null,
   "id": "0639413f-c531-4b1d-aee4-59a5e6be170a",
   "metadata": {},
   "outputs": [],
   "source": [
    "# list of HEX colors\n",
    "hex_colors = [\"#66BA7B\", \"#C08C1C\", \"#CB67EF\", \"#DC726C\", \"#75C1C3\", \"#7DB93F\", \"#DF60B5\", \"#9390F3\", \"#5FACF2\", \"#9EA022\"]\n",
    "\n",
    "# convert HEX colors to RGB\n",
    "rgb_colors = [(int(color[1:3], 16)/255, int(color[3:5], 16)/255, int(color[5:7], 16)/255) for color in hex_colors]\n",
    "\n",
    "# create colormap\n",
    "cmap = ListedColormap(rgb_colors)\n",
    "\n",
    "# create dictionary to assign colors to clusters\n",
    "clusters = [\"Trans\", \"Naive\", \"M-mem1\", \"M-mem2\", \"C-mem1\", \"C-mem2\", \"DN1\", \"DN2\", \"DN3\", \"DN4\"]\n",
    "umap_colors = {}\n",
    "i = 0\n",
    "for cluster in clusters:\n",
    "    umap_colors[cluster] = cmap.colors[i]\n",
    "    i+=1"
   ]
  },
  {
   "cell_type": "markdown",
   "id": "1b3638d1-1b21-4fe8-beea-88de8de08dfd",
   "metadata": {},
   "source": [
    "#### load data"
   ]
  },
  {
   "cell_type": "code",
   "execution_count": null,
   "id": "e577e61c-97f0-4ffa-9c40-5300fc313deb",
   "metadata": {},
   "outputs": [],
   "source": [
    "adata = sc.read_h5ad(\"../data/stewart_salmon_unprocessed.h5ad\")\n",
    "cellranger = sc.read_h5ad(\"../data/stewart_cellranger_unprocessed.h5ad\")\n",
    "ref = sc.read_h5ad(\"../data/stewart_reference.h5ad\")"
   ]
  },
  {
   "cell_type": "markdown",
   "id": "c8e50bb8-31f2-449c-9db8-c8cdc336fbbb",
   "metadata": {},
   "source": [
    "#### subset to get only cells & genes present in salmon, cellranger and Stewart"
   ]
  },
  {
   "cell_type": "code",
   "execution_count": null,
   "id": "1b74ce05-8b32-40c2-aaad-b5c66a1c1be3",
   "metadata": {},
   "outputs": [],
   "source": [
    "# get subset present in all 3 (7257 cells)\n",
    "cell_subset =  list(set(adata.obs_names.tolist()) & set(cellranger.obs_names.tolist()) & set(ref.obs_names.tolist()))\n",
    "gene_subset =  list(set(adata.var_names.tolist()) & set(cellranger.var_names.tolist()) & set(ref.var_names.tolist()))\n",
    "\n",
    "# reduce to subset\n",
    "adata = adata[cell_subset, gene_subset]\n",
    "adata"
   ]
  },
  {
   "cell_type": "markdown",
   "id": "be68ce7b-018b-466d-89f0-6979d306b1bb",
   "metadata": {},
   "source": [
    "### preprocessing"
   ]
  },
  {
   "cell_type": "code",
   "execution_count": null,
   "id": "3759023c-1790-4012-9b62-77019e7383da",
   "metadata": {},
   "outputs": [],
   "source": [
    "# save unprocessed counts\n",
    "adata.layers[\"counts\"] = adata.X"
   ]
  },
  {
   "cell_type": "code",
   "execution_count": null,
   "id": "792e9950-f8d0-4c49-b03b-acc77df4c55b",
   "metadata": {},
   "outputs": [],
   "source": [
    "# log normalization\n",
    "sc.pp.normalize_total(adata, target_sum=10000)\n",
    "sc.pp.log1p(adata)"
   ]
  },
  {
   "cell_type": "code",
   "execution_count": null,
   "id": "cf5c5a43-63f9-482b-9b55-8a97110a3266",
   "metadata": {},
   "outputs": [],
   "source": [
    "# get highly variable features from reference\n",
    "variable_mask = [ref.var['vst.variable'][gene] for gene in adata.var_names.tolist()]\n",
    "adata.var['highly_variable'] = variable_mask"
   ]
  },
  {
   "cell_type": "code",
   "execution_count": null,
   "id": "dd31cbaa-748e-43ce-b7be-81acafc4131f",
   "metadata": {},
   "outputs": [],
   "source": [
    "adata.var['highly_variable'].sum()"
   ]
  },
  {
   "cell_type": "code",
   "execution_count": null,
   "id": "814bbd93-e150-4fb2-aa81-6f7385067f78",
   "metadata": {},
   "outputs": [],
   "source": [
    "# scale data\n",
    "sc.pp.scale(adata, max_value=10)"
   ]
  },
  {
   "cell_type": "code",
   "execution_count": null,
   "id": "6ff293fd-73ea-4989-8a78-e4a82f350c40",
   "metadata": {},
   "outputs": [],
   "source": [
    "# get PCA from reference\n",
    "adata.obsm[\"X_pca\"] = ref[adata.obs_names, adata.var_names].obsm[\"X_pca\"] "
   ]
  },
  {
   "cell_type": "code",
   "execution_count": null,
   "id": "c7fd73e7-e766-4730-b0f3-f8a3b132d7f5",
   "metadata": {},
   "outputs": [],
   "source": [
    "# get neighbors from cellranger\n",
    "adata.obsp[\"distances\"] = cellranger[adata.obs_names, adata.var_names].obsp[\"distances\"]\n",
    "adata.obsp[\"connectivities\"] = cellranger[adata.obs_names, adata.var_names].obsp[\"connectivities\"]\n",
    "adata.uns[\"neighbors\"] = cellranger[adata.obs_names, adata.var_names].uns[\"neighbors\"]"
   ]
  },
  {
   "cell_type": "code",
   "execution_count": null,
   "id": "fe942a1b-eb58-40d8-b566-feb3da8e711a",
   "metadata": {},
   "outputs": [],
   "source": [
    "# get clusters from reference\n",
    "adata.obs[\"cluster\"] = [str(ref[bc,:].obs[\"cluster\"][0]) for bc in adata.obs_names]"
   ]
  },
  {
   "cell_type": "code",
   "execution_count": null,
   "id": "1a0a0817-8bbd-423f-b39a-cc28882a6015",
   "metadata": {},
   "outputs": [],
   "source": [
    "# check gene expression\n",
    "markers = [\"HOPX\", \"PDE4D\", \"IGHE\", \"SELL\", \"EMP3\", \"CIB1\", \"PSAP\", \"CD72\", \"DAPP1\", \"LTB\", \"HCK\", \"ZEB2\", \n",
    "           \"RHOB\", \"TNFRSF1B\", \"FCRL3\", \"FCRL5\", \"FGR\", \"MPP6\", \"TAGLN2\", \"IGHA2\", \"AHNAK\", \"S100A4\", \"CRIP2\", \n",
    "           \"ITGB1\", \"JCHAIN\", \"VIM\", \"PLPP5\", \"FCER2\", \"IL4R\", \"CRIP1\", \"LGALS1\", \"IGHA1\", \"CTSH\", \"IGHG2\", \n",
    "           \"VPREB3\", \"PPP1R14A\", \"PCDH9\", \"PLD4\", \"IGHM\", \"MT-ATP8\", \"IGHD\", \"SOX4\", \"AL139020.1\", \"TCL1A\"]\n",
    "\n",
    "# missing: \"S100A1\", \"IGLL5\"\n",
    "\n",
    "sc.pl.dotplot(adata, markers, groupby='cluster', vmin=-2, vmax=2, vcenter=0, cmap=\"coolwarm\",\n",
    "             categories_order = [\"DN4\", \"DN3\", \"DN2\", \"DN1\", \"C-mem2\", \"C-mem1\", \"M-mem2\", \"M-mem1\", \"Naive\", \"Trans\"])"
   ]
  },
  {
   "cell_type": "code",
   "execution_count": null,
   "id": "0d68297f-65a5-4b99-8d69-aeba9261945e",
   "metadata": {},
   "outputs": [],
   "source": [
    "# get UMAP coordinates from reference\n",
    "umap_xyz = np.empty((0, 3))\n",
    "for bc in adata.obs_names.tolist():\n",
    "    umap_xyz = np.vstack((umap_xyz, np.array(ref[bc,:].obsm['X_umap'])))\n",
    "adata.obsm['X_umap'] = umap_xyz"
   ]
  },
  {
   "cell_type": "code",
   "execution_count": null,
   "id": "71442604-49b8-4dbf-a8dc-a5fcc4f57ef9",
   "metadata": {},
   "outputs": [],
   "source": [
    "# plot UMAP\n",
    "sc.pl.umap(adata, color=\"cluster\", dimensions=(0,1), palette=umap_colors)\n",
    "sc.pl.umap(adata, color=\"cluster\", dimensions=(0,2), palette=umap_colors)\n",
    "sc.pl.umap(adata, color=\"cluster\", dimensions=(1,2), palette=umap_colors)"
   ]
  },
  {
   "cell_type": "code",
   "execution_count": null,
   "id": "f2a138dd-ba6e-4185-b754-d81de01802f6",
   "metadata": {},
   "outputs": [],
   "source": [
    "# save\n",
    "adata.write_h5ad(filename=\"../data/stewart_salmon.h5ad\")"
   ]
  }
 ],
 "metadata": {
  "kernelspec": {
   "display_name": "env1",
   "language": "python",
   "name": "env1"
  },
  "language_info": {
   "codemirror_mode": {
    "name": "ipython",
    "version": 3
   },
   "file_extension": ".py",
   "mimetype": "text/x-python",
   "name": "python",
   "nbconvert_exporter": "python",
   "pygments_lexer": "ipython3",
   "version": "3.11.0"
  }
 },
 "nbformat": 4,
 "nbformat_minor": 5
}
