{
 "cells": [
  {
   "cell_type": "markdown",
   "id": "8bb0f2a1-5210-4de6-94be-f9321c69b67b",
   "metadata": {},
   "source": [
    "## Stewart: find overlapping genes on opposite strands"
   ]
  },
  {
   "cell_type": "code",
   "execution_count": 1,
   "id": "afa124fc-c7c0-4241-944e-0ce80a6f5813",
   "metadata": {},
   "outputs": [],
   "source": [
    "import numpy as np\n",
    "import pandas as pd\n",
    "import scipy.stats as stats\n",
    "import scanpy as sc\n",
    "import anndata as ad\n",
    "import matplotlib.pyplot as plt\n",
    "from venny4py.venny4py import *\n",
    "import scvelo as scv\n",
    "import os\n",
    "import json\n",
    "from pyroe import load_fry\n",
    "import ensembl_rest\n",
    "from scipy.stats import pearsonr\n",
    "from scipy.stats import spearmanr\n",
    "from typing import Union\n",
    "import seaborn as sns\n",
    "import upsetplot as up\n",
    "\n",
    "import warnings\n",
    "warnings.filterwarnings(\"ignore\", category=DeprecationWarning) "
   ]
  },
  {
   "cell_type": "markdown",
   "id": "f1dd8381-d4ba-421a-ad6b-368b680521c0",
   "metadata": {},
   "source": [
    "### read in data"
   ]
  },
  {
   "cell_type": "code",
   "execution_count": 2,
   "id": "cd820374-82cf-4ce4-98a9-d5f3b10470b6",
   "metadata": {},
   "outputs": [],
   "source": [
    "velocyto = sc.read_h5ad(\"../data/stewart_velocyto_sto.h5ad\")\n",
    "alevin = sc.read_h5ad(\"../data/stewart_alevin_sto.h5ad\")\n",
    "alevin = alevin[velocyto.obs_names, velocyto.var_names]"
   ]
  },
  {
   "cell_type": "markdown",
   "id": "af41b682-02b6-4899-ba24-00d0f55e99be",
   "metadata": {},
   "source": [
    "### find overlapping genes"
   ]
  },
  {
   "cell_type": "code",
   "execution_count": 3,
   "id": "e79924be-5bd9-4dfe-87db-8087f39aa25d",
   "metadata": {},
   "outputs": [],
   "source": [
    "gene_pos_df = velocyto.var[[\"Chromosome\", \"Start\", \"End\", \"Strand\"]]"
   ]
  },
  {
   "cell_type": "code",
   "execution_count": 4,
   "id": "98f18bc3-f954-4ec5-ba23-e5647145afb4",
   "metadata": {},
   "outputs": [
    {
     "name": "stdout",
     "output_type": "stream",
     "text": [
      "7951\n",
      "7705\n"
     ]
    }
   ],
   "source": [
    "# check number of genes on forward and reverse strand\n",
    "print(len(gene_pos_df[gene_pos_df[\"Strand\"] == \"+\"]))\n",
    "print(len(gene_pos_df[gene_pos_df[\"Strand\"] == \"-\"]))"
   ]
  },
  {
   "cell_type": "code",
   "execution_count": 5,
   "id": "638e250b-ac2c-43ab-968f-332f82bdf6ff",
   "metadata": {
    "scrolled": true
   },
   "outputs": [],
   "source": [
    "def overlapping(\n",
    "    chr_1: Union[int, str],\n",
    "    start_1: int,\n",
    "    end_1: int,\n",
    "    strand_1: str,\n",
    "    chr_2: Union[int, str],\n",
    "    start_2: int,\n",
    "    end_2: int,\n",
    "    strand_2: str,\n",
    "    opposing: bool = True\n",
    ") -> bool:\n",
    "    \"\"\"\n",
    "    Check if two genes overlap.\n",
    "    :param chr_1: chromosome of first gene\n",
    "    :param start_1: start position of first gene\n",
    "    :param end_1: end position of first gene\n",
    "    :param strand_1: strand of first gene\n",
    "    :param chr_2: chromosome of second gene\n",
    "    :param start_2: start position of second gene\n",
    "    :param end_2: end position of second gene\n",
    "    :param strand_2: strand of second gene\n",
    "    :param opposing: consider genes on opposing or same strand\n",
    "    :return:\n",
    "    \"\"\"\n",
    "    if chr_1 != chr_2:\n",
    "        return False\n",
    "    if opposing and strand_1 == strand_2:\n",
    "        return False\n",
    "    elif not opposing and strand_1 != strand_2:\n",
    "        return False\n",
    "    assert start_1 < end_1 and start_2 < end_2, \"Start must be less than end\"\n",
    "    if start_1 > end_2 or start_2 > end_1:\n",
    "        return False\n",
    "    return True"
   ]
  },
  {
   "cell_type": "code",
   "execution_count": 6,
   "id": "27564165-efce-4dda-b90f-b2b339a90797",
   "metadata": {},
   "outputs": [],
   "source": [
    "overlapping_matrix = gene_pos_df.apply(\n",
    "    lambda x: gene_pos_df.apply(\n",
    "        lambda y: overlapping(*x, *y, opposing=True), axis=1\n",
    "    ), axis=1\n",
    ")"
   ]
  },
  {
   "cell_type": "code",
   "execution_count": 7,
   "id": "db4de8ba-c5c0-4561-a1db-0667e46bcace",
   "metadata": {},
   "outputs": [],
   "source": [
    "# get indices of overlapping genes\n",
    "idx_1, idx_2 = np.where(overlapping_matrix)\n",
    "gene_1 = overlapping_matrix.iloc[idx_1].index\n",
    "gene_2 = overlapping_matrix.iloc[idx_2].index\n",
    "\n",
    "overlapping_genes = gene_pos_df.loc[gene_1]\n",
    "overlapping_genes[\"overlapping_gene\"] = gene_2"
   ]
  },
  {
   "cell_type": "code",
   "execution_count": 8,
   "id": "f8cad60f-4f98-410f-b1ac-9e789466819a",
   "metadata": {},
   "outputs": [
    {
     "name": "stdout",
     "output_type": "stream",
     "text": [
      "Number of overlaping genes: 3257.0\n"
     ]
    }
   ],
   "source": [
    "print(\"Number of overlaping genes:\", len(overlapping_genes)/2)"
   ]
  },
  {
   "cell_type": "markdown",
   "id": "bcbb1f2f-327b-49aa-98fe-d4226349b158",
   "metadata": {},
   "source": [
    "### get additional gene information"
   ]
  },
  {
   "cell_type": "code",
   "execution_count": 9,
   "id": "a89ed1e9-e5d4-4b43-a08c-28119580fd99",
   "metadata": {},
   "outputs": [],
   "source": [
    "# get additional information of genes\n",
    "gene_info = pd.DataFrame({\"counts cellranger\": [velocyto[:,gene].layers[\"counts\"].sum() for gene in velocyto.var_names],\n",
    "                        \"counts salmon\": [alevin[:,gene].layers[\"counts\"].sum() for gene in alevin.var_names],\n",
    "                        \"spliced counts velocyto\": np.array(velocyto.layers[\"spliced\"].sum(axis=0)).flatten(),\n",
    "                        \"unspliced counts velocyto\": np.array(velocyto.layers[\"unspliced\"].sum(axis=0)).flatten(),\n",
    "                        \"spliced counts alevin\": np.array(alevin.layers[\"spliced\"].sum(axis=0)).flatten(),\n",
    "                        \"unspliced counts alevin\": np.array(alevin.layers[\"unspliced\"].sum(axis=0)).flatten()},\n",
    "                        index = velocyto.var_names)"
   ]
  },
  {
   "cell_type": "code",
   "execution_count": 10,
   "id": "19f7029b-1c24-45a1-a1d5-d99c08dababd",
   "metadata": {},
   "outputs": [],
   "source": [
    "# get mean counts\n",
    "gene_info[\"mean counts cellranger\"] = gene_info.apply(lambda x: float(velocyto[:,x.name].layers[\"counts\"].mean()), axis=1)\n",
    "gene_info[\"mean counts salmon\"] = gene_info.apply(lambda x: float(alevin[:,x.name].layers[\"counts\"].mean()), axis=1)"
   ]
  },
  {
   "cell_type": "code",
   "execution_count": 12,
   "id": "b2b061a7-378c-4788-8fde-e93873fb65ed",
   "metadata": {},
   "outputs": [],
   "source": [
    "overlapping_genes = pd.merge(overlapping_genes, gene_info, left_index=True, right_index=True, how='inner')"
   ]
  },
  {
   "cell_type": "markdown",
   "id": "514f5614-1aab-48a3-9e67-4f9168f879fb",
   "metadata": {},
   "source": [
    "### calculate correlations of cellranger counts with velocyto unspliced counts"
   ]
  },
  {
   "cell_type": "code",
   "execution_count": 13,
   "id": "96e9dc79-87a1-48bb-81d8-01cffc2b150d",
   "metadata": {},
   "outputs": [],
   "source": [
    "# get pearson correlation per gene\n",
    "def gene_pearson(adata, gene1, gene2):\n",
    "    x = adata[:,gene1].layers[\"counts\"].toarray().ravel()\n",
    "    y = adata[:,gene2].layers[\"unspliced\"].toarray().ravel()\n",
    "    return pearsonr(x,y)[0]\n",
    "\n",
    "def gene_pval(adata, gene1, gene2):\n",
    "    x = adata[:,gene1].layers[\"counts\"].toarray().ravel()\n",
    "    y = adata[:,gene2].layers[\"unspliced\"].toarray().ravel()\n",
    "    return pearsonr(x,y)[1]"
   ]
  },
  {
   "cell_type": "code",
   "execution_count": 14,
   "id": "a06267cd-e30a-40d7-9f2d-2ef21856e746",
   "metadata": {},
   "outputs": [],
   "source": [
    "overlapping_genes[\"pearson\"] = overlapping_genes.apply(lambda x: gene_pearson(velocyto, x.name, x[\"overlapping_gene\"]), axis=1)\n",
    "overlapping_genes[\"pearson_pval\"] = overlapping_genes.apply(lambda x: gene_pval(velocyto, x.name, x[\"overlapping_gene\"]), axis=1)"
   ]
  },
  {
   "cell_type": "code",
   "execution_count": 15,
   "id": "49894bd4-7c52-4bec-84b5-a82057360df8",
   "metadata": {},
   "outputs": [],
   "source": [
    "# get spearman correlation per gene\n",
    "def gene_spearman(adata, gene1, gene2):\n",
    "    x = adata[:,gene1].layers[\"counts\"].toarray().ravel()\n",
    "    y = adata[:,gene2].layers[\"unspliced\"].toarray().ravel()\n",
    "    return spearmanr(x,y)"
   ]
  },
  {
   "cell_type": "code",
   "execution_count": 16,
   "id": "aac87fca-0e32-4e08-be21-492c4abd51c7",
   "metadata": {},
   "outputs": [],
   "source": [
    "overlapping_genes[\"spearman\"] = overlapping_genes.apply(lambda x: gene_spearman(velocyto, x.name, x[\"overlapping_gene\"]), axis=1)\n",
    "overlapping_genes[\"spearman_pval\"] = overlapping_genes[\"spearman\"].apply(lambda x: x[1])\n",
    "overlapping_genes[\"spearman\"] = overlapping_genes[\"spearman\"].apply(lambda x: x[0])"
   ]
  },
  {
   "cell_type": "markdown",
   "id": "1c3f45eb-913b-48a9-910f-3f6c473d13a8",
   "metadata": {},
   "source": [
    "### calculate overlap length"
   ]
  },
  {
   "cell_type": "code",
   "execution_count": 17,
   "id": "013ee071-4bcc-4b23-92f6-f6d07e7350af",
   "metadata": {},
   "outputs": [],
   "source": [
    "def overlap_len(row):\n",
    "    overlap = min(row[\"End\"], gene_pos_df.loc[row[\"overlapping_gene\"]][\"End\"]) - max(row[\"Start\"], gene_pos_df.loc[row[\"overlapping_gene\"]][\"Start\"])\n",
    "    return overlap"
   ]
  },
  {
   "cell_type": "code",
   "execution_count": 18,
   "id": "d85216b9-27fb-4935-9f86-a20dab241e26",
   "metadata": {},
   "outputs": [],
   "source": [
    "# get total lenght of overlap\n",
    "overlapping_genes[\"overlap_length\"] = overlapping_genes.apply(lambda x: overlap_len(x), axis=1)"
   ]
  },
  {
   "cell_type": "code",
   "execution_count": 19,
   "id": "f942b61d-60c2-4cf3-a373-0084f53fb216",
   "metadata": {},
   "outputs": [],
   "source": [
    "# set multi-index\n",
    "overlapping_genes.set_index(\"overlapping_gene\", append=True, inplace=True)"
   ]
  },
  {
   "cell_type": "code",
   "execution_count": 20,
   "id": "2ba18781-fcea-45d0-a32a-0a96fb833949",
   "metadata": {},
   "outputs": [
    {
     "data": {
      "text/plain": [
       "PearsonRResult(statistic=0.29624044420379836, pvalue=1.1101711695651633e-116)"
      ]
     },
     "execution_count": 20,
     "metadata": {},
     "output_type": "execute_result"
    }
   ],
   "source": [
    "# correlation of overlap length with Pearson correlation\n",
    "pearsonr(overlapping_genes.dropna()[\"pearson\"], overlapping_genes.dropna()[\"overlap_length\"])"
   ]
  },
  {
   "cell_type": "code",
   "execution_count": 21,
   "id": "e24e3c37-488c-438c-8424-81c41ec0e537",
   "metadata": {},
   "outputs": [
    {
     "data": {
      "text/plain": [
       "PearsonRResult(statistic=-0.2062026997207677, pvalue=3.466281214741773e-56)"
      ]
     },
     "execution_count": 21,
     "metadata": {},
     "output_type": "execute_result"
    }
   ],
   "source": [
    "# correlation of overlap length with Pearson p-values\n",
    "pearsonr(overlapping_genes.dropna()[\"pearson_pval\"], overlapping_genes.dropna()[\"overlap_length\"])"
   ]
  },
  {
   "cell_type": "code",
   "execution_count": 22,
   "id": "1c7405fa-0818-4767-a822-ed6611ee618b",
   "metadata": {},
   "outputs": [
    {
     "data": {
      "text/plain": [
       "PearsonRResult(statistic=0.30330075565235554, pvalue=1.7263030388555444e-122)"
      ]
     },
     "execution_count": 22,
     "metadata": {},
     "output_type": "execute_result"
    }
   ],
   "source": [
    "# correlation of overlap length with Spearman correlation\n",
    "pearsonr(overlapping_genes.dropna()[\"spearman\"], overlapping_genes.dropna()[\"overlap_length\"])"
   ]
  },
  {
   "cell_type": "code",
   "execution_count": 23,
   "id": "28f87311-f548-4e08-9e3a-a5cffc4693d1",
   "metadata": {},
   "outputs": [
    {
     "data": {
      "text/plain": [
       "PearsonRResult(statistic=-0.1751170133423072, pvalue=8.888092811909854e-41)"
      ]
     },
     "execution_count": 23,
     "metadata": {},
     "output_type": "execute_result"
    }
   ],
   "source": [
    "# correlation of overlap length with Spearman correlation\n",
    "pearsonr(overlapping_genes.dropna()[\"spearman_pval\"], overlapping_genes.dropna()[\"overlap_length\"])"
   ]
  },
  {
   "cell_type": "markdown",
   "id": "441e8e60-3460-4ba9-8204-3ba4d4c6dc9c",
   "metadata": {},
   "source": [
    "### calculate proportion of overlap "
   ]
  },
  {
   "cell_type": "code",
   "execution_count": 24,
   "id": "a3f8a34d-0582-4424-90fa-6a0a6b571a5c",
   "metadata": {},
   "outputs": [],
   "source": [
    "# calculate relative overlap\n",
    "overlapping_genes[\"rel_overlap\"] = overlapping_genes.apply(lambda x: x[\"overlap_length\"] / (x[\"End\"] - x[\"Start\"]), axis=1)"
   ]
  },
  {
   "cell_type": "code",
   "execution_count": 25,
   "id": "2f94b745-26ed-4425-8239-18d9b4de20ea",
   "metadata": {},
   "outputs": [
    {
     "data": {
      "text/plain": [
       "PearsonRResult(statistic=0.4710478307924693, pvalue=3.87786739e-315)"
      ]
     },
     "execution_count": 25,
     "metadata": {},
     "output_type": "execute_result"
    }
   ],
   "source": [
    "# correlation of overlap length with Pearson correlation\n",
    "pearsonr(overlapping_genes.dropna()[\"pearson\"], overlapping_genes.dropna()[\"rel_overlap\"])"
   ]
  },
  {
   "cell_type": "code",
   "execution_count": 26,
   "id": "49092041-d588-4b14-baf6-5d3d8e77e938",
   "metadata": {},
   "outputs": [
    {
     "data": {
      "text/plain": [
       "PearsonRResult(statistic=-0.27843182532413957, pvalue=9.549455642821775e-103)"
      ]
     },
     "execution_count": 26,
     "metadata": {},
     "output_type": "execute_result"
    }
   ],
   "source": [
    "# correlation of overlap length with Pearson p-values\n",
    "pearsonr(overlapping_genes.dropna()[\"pearson_pval\"], overlapping_genes.dropna()[\"rel_overlap\"])"
   ]
  },
  {
   "cell_type": "code",
   "execution_count": 27,
   "id": "64644fee-87a6-41ea-8929-b59ba59198f8",
   "metadata": {},
   "outputs": [
    {
     "data": {
      "text/plain": [
       "SignificanceResult(statistic=0.49316467172629636, pvalue=0.0)"
      ]
     },
     "execution_count": 27,
     "metadata": {},
     "output_type": "execute_result"
    }
   ],
   "source": [
    "# correlation of overlap length with Spearman correlation\n",
    "spearmanr(overlapping_genes.dropna()[\"spearman\"], overlapping_genes.dropna()[\"rel_overlap\"])"
   ]
  },
  {
   "cell_type": "code",
   "execution_count": 28,
   "id": "289ef342-20fe-42e9-ba3f-903045a91215",
   "metadata": {},
   "outputs": [
    {
     "data": {
      "text/plain": [
       "SignificanceResult(statistic=-0.47299769586633755, pvalue=0.0)"
      ]
     },
     "execution_count": 28,
     "metadata": {},
     "output_type": "execute_result"
    }
   ],
   "source": [
    "# correlation of overlap length with Spearman correlation\n",
    "spearmanr(overlapping_genes.dropna()[\"spearman_pval\"], overlapping_genes.dropna()[\"rel_overlap\"])"
   ]
  },
  {
   "cell_type": "markdown",
   "id": "dd32b093-a097-4deb-8a71-8f5b0b373e6b",
   "metadata": {},
   "source": [
    "### save"
   ]
  },
  {
   "cell_type": "code",
   "execution_count": 29,
   "id": "4a0c681a-f850-4908-a7f9-21552fa5766c",
   "metadata": {},
   "outputs": [],
   "source": [
    "# save\n",
    "gene_pos_df.to_pickle(\"../data/stewart_gene_positions.pkl.gz\", compression='gzip')\n",
    "gene_info.to_csv(\"../data/stewart_gene_info.csv\")\n",
    "overlapping_genes.to_pickle(\"../data/stewart_overlapping_genes.pkl.gz\", compression='gzip')"
   ]
  }
 ],
 "metadata": {
  "kernelspec": {
   "display_name": "env1",
   "language": "python",
   "name": "env1"
  },
  "language_info": {
   "codemirror_mode": {
    "name": "ipython",
    "version": 3
   },
   "file_extension": ".py",
   "mimetype": "text/x-python",
   "name": "python",
   "nbconvert_exporter": "python",
   "pygments_lexer": "ipython3",
   "version": "3.11.0"
  }
 },
 "nbformat": 4,
 "nbformat_minor": 5
}
