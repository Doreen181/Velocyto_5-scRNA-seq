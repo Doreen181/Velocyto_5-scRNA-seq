{
 "cells": [
  {
   "cell_type": "markdown",
   "id": "b62da5e4-7255-4f1a-b95d-b8efb24dc019",
   "metadata": {},
   "source": [
    "## Stewart: preprocessing of Cell Ranger data"
   ]
  },
  {
   "cell_type": "code",
   "execution_count": null,
   "id": "6c22b1d3-a545-412d-8242-7c60b8b8db95",
   "metadata": {},
   "outputs": [],
   "source": [
    "import numpy as np\n",
    "import pandas as pd\n",
    "import scanpy as sc\n",
    "import anndata as ad\n",
    "from scipy.sparse import csr_matrix\n",
    "import matplotlib.pyplot as plt\n",
    "from matplotlib_venn import venn2\n",
    "import scvelo as scv\n",
    "import re\n",
    "import louvain\n",
    "from skmisc.loess import loess"
   ]
  },
  {
   "cell_type": "markdown",
   "id": "4648af1e-b621-4352-b8d9-e476dff902bd",
   "metadata": {},
   "source": [
    "#### create colormap for UMAPs"
   ]
  },
  {
   "cell_type": "code",
   "execution_count": null,
   "id": "0639413f-c531-4b1d-aee4-59a5e6be170a",
   "metadata": {},
   "outputs": [],
   "source": [
    "# list of HEX colors\n",
    "hex_colors = [\"#66BA7B\", \"#C08C1C\", \"#CB67EF\", \"#DC726C\", \"#75C1C3\", \"#7DB93F\", \"#DF60B5\", \"#9390F3\", \"#5FACF2\", \"#9EA022\"]\n",
    "\n",
    "# convert HEX colors to RGB\n",
    "rgb_colors = [(int(color[1:3], 16)/255, int(color[3:5], 16)/255, int(color[5:7], 16)/255) for color in hex_colors]\n",
    "\n",
    "# create colormap\n",
    "cmap = ListedColormap(rgb_colors)\n",
    "\n",
    "# create dictionary to assign colors to clusters\n",
    "clusters = [\"Trans\", \"Naive\", \"M-mem1\", \"M-mem2\", \"C-mem1\", \"C-mem2\", \"DN1\", \"DN2\", \"DN3\", \"DN4\"]\n",
    "umap_colors = {}\n",
    "i = 0\n",
    "for cluster in clusters:\n",
    "    umap_colors[cluster] = cmap.colors[i]\n",
    "    i+=1"
   ]
  },
  {
   "cell_type": "markdown",
   "id": "4b5892b6-34d8-41f8-a1ba-d06600bc39bc",
   "metadata": {},
   "source": [
    "#### load data"
   ]
  },
  {
   "cell_type": "code",
   "execution_count": null,
   "id": "4a50f89e-7212-4cb1-b09c-4181cdbcfe19",
   "metadata": {},
   "outputs": [],
   "source": [
    "adata = sc.read_h5ad(\"../data/stewart_cellranger_unprocessed.h5ad\")\n",
    "salmon = sc.read_h5ad(\"../data/stewart_salmon_unprocessed.h5ad\")\n",
    "ref = sc.read_h5ad(\"../data/stewart_reference.h5ad\")"
   ]
  },
  {
   "cell_type": "markdown",
   "id": "77284dc7-a811-4380-bdc6-8ec7b6d3fd1a",
   "metadata": {},
   "source": [
    "#### subset to get only cells & genes present in cellranger, salmon and Stewart"
   ]
  },
  {
   "cell_type": "code",
   "execution_count": null,
   "id": "5aa69580-d5a7-4204-b8e6-0231537a9531",
   "metadata": {},
   "outputs": [],
   "source": [
    "# get subset present in all 3\n",
    "cell_subset =  list(set(adata.obs_names.tolist() & set(salmon.obs_names.tolist()) & set(ref.obs_names.tolist())))\n",
    "gene_subset =  list(set(adata.var_names.tolist() & set(salmon.var_names.tolist()) & set(ref.var_names.tolist())))\n",
    "\n",
    "# reduce to subset\n",
    "adata = adata[cell_subset, gene_subset]\n",
    "adata"
   ]
  },
  {
   "cell_type": "markdown",
   "id": "bade86e5-e59d-4dba-9909-65d654559c49",
   "metadata": {},
   "source": [
    "#### preprocessing"
   ]
  },
  {
   "cell_type": "code",
   "execution_count": null,
   "id": "fc4d907a-ab06-4a56-b464-1ac6d419ee1a",
   "metadata": {},
   "outputs": [],
   "source": [
    "# save unprocessed counts\n",
    "adata.layers[\"counts\"] = adata.X"
   ]
  },
  {
   "cell_type": "code",
   "execution_count": null,
   "id": "c62b2644-ffbc-487c-a442-e2eb555fe465",
   "metadata": {},
   "outputs": [],
   "source": [
    "# normalization\n",
    "sc.pp.normalize_total(adata, target_sum=10000)\n",
    "# log transform\n",
    "sc.pp.log1p(adata)"
   ]
  },
  {
   "cell_type": "code",
   "execution_count": null,
   "id": "c3bb321d-20a4-404d-a8d9-624cba771cec",
   "metadata": {},
   "outputs": [],
   "source": [
    "# get highly variable features from reference\n",
    "variable_mask = [ref.var['vst.variable'][gene] for gene in adata.var_names.tolist()]\n",
    "adata.var['highly_variable'] = variable_mask"
   ]
  },
  {
   "cell_type": "code",
   "execution_count": null,
   "id": "0b5adf6c-4399-4a33-be0d-e653fcec28cf",
   "metadata": {},
   "outputs": [],
   "source": [
    "adata.var['highly_variable'].sum()"
   ]
  },
  {
   "cell_type": "code",
   "execution_count": null,
   "id": "a18bf3c7-c61e-4755-8110-a3831588313c",
   "metadata": {},
   "outputs": [],
   "source": [
    "# scale data\n",
    "sc.pp.scale(adata, max_value=10)"
   ]
  },
  {
   "cell_type": "code",
   "execution_count": null,
   "id": "96f0ae88-9666-4f69-9245-f38400048e4a",
   "metadata": {},
   "outputs": [],
   "source": [
    "# get PCA from reference\n",
    "adata.obsm[\"X_pca\"] = ref[adata.obs_names, adata.var_names].obsm[\"X_pca\"] "
   ]
  },
  {
   "cell_type": "code",
   "execution_count": null,
   "id": "73507688-b780-4d91-bbf1-d913830bb371",
   "metadata": {},
   "outputs": [],
   "source": [
    "# neighbors\n",
    "sc.pp.neighbors(adata, n_pcs=14, n_neighbors=20)"
   ]
  },
  {
   "cell_type": "code",
   "execution_count": null,
   "id": "412d04ed-86aa-4c82-aa17-3515ba85626b",
   "metadata": {},
   "outputs": [],
   "source": [
    "# get clusters from reference\n",
    "adata.obs[\"cluster\"] = [str(ref[bc,:].obs[\"cluster\"][0]) for bc in adata.obs_names]"
   ]
  },
  {
   "cell_type": "code",
   "execution_count": null,
   "id": "195872fc-8475-4632-b4d0-24225678b92e",
   "metadata": {},
   "outputs": [],
   "source": [
    "# check gene expression\n",
    "markers = [\"HOPX\", \"PDE4D\", \"IGHE\", \"SELL\", \"EMP3\", \"CIB1\", \"PSAP\", \"CD72\", \"DAPP1\", \"LTB\", \"HCK\", \"ZEB2\", \n",
    "           \"RHOB\", \"TNFRSF1B\", \"FCRL3\", \"FCRL5\", \"FGR\", \"MPP6\", \"TAGLN2\", \"IGHA2\", \"AHNAK\", \"S100A4\", \"CRIP2\", \n",
    "           \"ITGB1\", \"JCHAIN\", \"VIM\", \"PLPP5\", \"FCER2\", \"IL4R\", \"CRIP1\", \"LGALS1\", \"IGHA1\", \"CTSH\", \"IGHG2\", \n",
    "           \"VPREB3\", \"PPP1R14A\", \"PCDH9\", \"PLD4\", \"IGHM\", \"MT-ATP8\", \"IGHD\", \"SOX4\", \"AL139020.1\", \"TCL1A\"]\n",
    "\n",
    "# missing: \"S100A1\", \"IGLL5\"\n",
    "\n",
    "sc.pl.dotplot(adata, markers, groupby='cluster', vmin=-2, vmax=2, vcenter=0, cmap=\"coolwarm\",\n",
    "             categories_order = [\"DN4\", \"DN3\", \"DN2\", \"DN1\", \"C-mem2\", \"C-mem1\", \"M-mem2\", \"M-mem1\", \"Naive\", \"Trans\"])"
   ]
  },
  {
   "cell_type": "code",
   "execution_count": null,
   "id": "6016d16e-7b59-4f45-a50c-3d6a9c7d510f",
   "metadata": {},
   "outputs": [],
   "source": [
    "# get UMAP coordinates from reference\n",
    "umap_xyz = np.empty((0, 3))\n",
    "for bc in adata.obs_names.tolist():\n",
    "    umap_xyz = np.vstack((umap_xyz, np.array(ref[bc,:].obsm['X_umap'])))\n",
    "adata.obsm['X_umap'] = umap_xyz"
   ]
  },
  {
   "cell_type": "code",
   "execution_count": null,
   "id": "20f11d14-906d-4c87-9988-b631be8ac3c6",
   "metadata": {},
   "outputs": [],
   "source": [
    "# plot UMAP\n",
    "sc.pl.umap(adata, color=\"cluster\", dimensions=(0,1), palette=umap_colors)\n",
    "sc.pl.umap(adata, color=\"cluster\", dimensions=(0,2), palette=umap_colors)\n",
    "sc.pl.umap(adata, color=\"cluster\", dimensions=(1,2), palette=umap_colors)"
   ]
  },
  {
   "cell_type": "code",
   "execution_count": null,
   "id": "5fd4652d-2bf7-4822-a0f8-d79bf07946e8",
   "metadata": {},
   "outputs": [],
   "source": [
    "# save\n",
    "adata.write_h5ad(filename=\"../data/stewart_cellranger.h5ad\")"
   ]
  }
 ],
 "metadata": {
  "kernelspec": {
   "display_name": "env1",
   "language": "python",
   "name": "env1"
  },
  "language_info": {
   "codemirror_mode": {
    "name": "ipython",
    "version": 3
   },
   "file_extension": ".py",
   "mimetype": "text/x-python",
   "name": "python",
   "nbconvert_exporter": "python",
   "pygments_lexer": "ipython3",
   "version": "3.11.0"
  }
 },
 "nbformat": 4,
 "nbformat_minor": 5
}
