{
 "cells": [
  {
   "cell_type": "markdown",
   "id": "b62da5e4-7255-4f1a-b95d-b8efb24dc019",
   "metadata": {},
   "source": [
    "## Fu: preprocessing of  Cell Ranger data"
   ]
  },
  {
   "cell_type": "code",
   "execution_count": null,
   "id": "6c22b1d3-a545-412d-8242-7c60b8b8db95",
   "metadata": {},
   "outputs": [],
   "source": [
    "import numpy as np\n",
    "import pandas as pd\n",
    "import scanpy as sc\n",
    "from scipy import io\n",
    "import anndata as ad\n",
    "from scipy.sparse import csr_matrix\n",
    "import matplotlib.pyplot as plt\n",
    "from matplotlib.colors import ListedColormap\n",
    "from matplotlib_venn import venn2\n",
    "from venny4py.venny4py import *\n",
    "import scvelo as scv\n",
    "import re\n",
    "import louvain\n",
    "from skmisc.loess import loess"
   ]
  },
  {
   "cell_type": "markdown",
   "id": "4648af1e-b621-4352-b8d9-e476dff902bd",
   "metadata": {},
   "source": [
    "#### create colormap for UMAPs"
   ]
  },
  {
   "cell_type": "code",
   "execution_count": null,
   "id": "0639413f-c531-4b1d-aee4-59a5e6be170a",
   "metadata": {},
   "outputs": [],
   "source": [
    "# list of HEX colors\n",
    "hex_colors = [\"#D90254\", \"#343AAD\", \"#04B2C6\", \"#73AF2A\", \"#FDB81E\", \"#5F3530\", \"#7F009E\", \"#0B7CE3\",\n",
    "              \"#088775\", \"#C0D33C\", \"#FB8606\", \"#888888\", \"#582399\", \"#269CFC\", \"#39A240\"]\n",
    "\n",
    "# convert HEX colors to RGB\n",
    "rgb_colors = [(int(color[1:3], 16)/255, int(color[3:5], 16)/255, int(color[5:7], 16)/255) for color in hex_colors]\n",
    "\n",
    "# create colormap\n",
    "cmap = ListedColormap(rgb_colors)\n",
    "\n",
    "# create dictionary to assign colors to clusters\n",
    "clusters = [\"c01\", \"c02\", \"c03\", \"c04\", \"c05\", \"c06\", \"c07\", \"c08\", \"c09\", \"c10\", \"c11\", \"c12\", \"c13\", \"c14\", \"c15\"]\n",
    "umap_colors = {}\n",
    "i = 0\n",
    "for cluster in clusters:\n",
    "    umap_colors[cluster] = cmap.colors[i]\n",
    "    i+=1"
   ]
  },
  {
   "cell_type": "markdown",
   "id": "4b5892b6-34d8-41f8-a1ba-d06600bc39bc",
   "metadata": {},
   "source": [
    "#### load integrated dataset"
   ]
  },
  {
   "cell_type": "code",
   "execution_count": null,
   "id": "4ca9a597-8178-43c2-9397-d60dfdd769e8",
   "metadata": {},
   "outputs": [],
   "source": [
    "X = io.mmread(\"../data/cellranger_norm_counts.mtx\")\n",
    "adata = ad.AnnData(X=X.transpose().tocsr())\n",
    "\n",
    "cell_meta = pd.read_csv(\"../data/cellranger_metadata.csv\")\n",
    "\n",
    "with open(\"../data/cellranger_gene_names.csv\", 'r') as f:\n",
    "    gene_names = f.read().splitlines()\n",
    "\n",
    "# add metadata\n",
    "adata.obs = cell_meta\n",
    "adata.obs.index = adata.obs['barcode']\n",
    "adata.var.index = gene_names\n",
    "\n",
    "# add raw count data\n",
    "adata.layers[\"counts\"] = io.mmread(\"../data/cellranger_raw_counts.mtx\").transpose().tocsr()"
   ]
  },
  {
   "cell_type": "code",
   "execution_count": null,
   "id": "068cc3ea-50eb-42cd-bb81-ec00c83fc935",
   "metadata": {},
   "outputs": [],
   "source": [
    "adata"
   ]
  },
  {
   "cell_type": "code",
   "execution_count": null,
   "id": "baf7727c-a89b-4eb6-9754-c9ea9b36de1e",
   "metadata": {},
   "outputs": [],
   "source": [
    "# add sample ID\n",
    "id_mapping = {\"Pt15_POD1194\": \"MJ001\", \"Pt13_POD1032_IEL\": \"MJ002\", \"Pt13_POD1032_LPL\": \"MJ003\", \n",
    "              \"Pt14_POD1764\": \"MJ005\", \"Pt21_POD626\": \"MJ006\", \"D251\": \"MJ007\", \"Pt04_POD1606_IEL\": \"MJ008\",\n",
    "              \"Pt04_POD1606_LPL\": \"MJ009\", \"Pt16_POD1004_IEL\": \"MJ016\", \"Pt16_POD1004_LPL\": \"MJ017\",\n",
    "              \"Pt21_POD1145_IEL\": \"MJ018\", \"Pt21_POD1145_LPL\": \"MJ019\"}\n",
    "\n",
    "adata.obs[\"id\"] = [id_mapping[x] for x in adata.obs[\"orig.ident\"]]"
   ]
  },
  {
   "cell_type": "markdown",
   "id": "b4ca8d09-0dd9-4895-a066-afcf5e3ffd9d",
   "metadata": {},
   "source": [
    "#### compare barcodes and genes to reference paper"
   ]
  },
  {
   "cell_type": "code",
   "execution_count": null,
   "id": "d0254d45-b577-4f06-acba-848688fbe90c",
   "metadata": {},
   "outputs": [],
   "source": [
    "# get processed object from reference paper\n",
    "ref = sc.read_h5ad(\"../data/fu_ref.h5ad\")"
   ]
  },
  {
   "cell_type": "code",
   "execution_count": null,
   "id": "b4094771-b1b1-40e5-b74d-447cf9b29022",
   "metadata": {},
   "outputs": [],
   "source": [
    "# get intersection of barcodes with reference\n",
    "venn2([set(adata.obs_names.tolist()), set(ref.obs_names.tolist())], set_labels = [\"Cellranger\", \"Fu\"])"
   ]
  },
  {
   "cell_type": "code",
   "execution_count": null,
   "id": "64b3fea2-564e-4590-a8f4-7990eeaf77a2",
   "metadata": {},
   "outputs": [],
   "source": [
    "# get intersection of genes with reference\n",
    "venn2([set(adata.var_names.tolist()), set(ref.var_names.tolist())], set_labels = [\"Cellranger\", \"Fu\"])"
   ]
  },
  {
   "cell_type": "markdown",
   "id": "77284dc7-a811-4380-bdc6-8ec7b6d3fd1a",
   "metadata": {},
   "source": [
    "### subset to get only cells & genes present in cellranger, salmon and Fu"
   ]
  },
  {
   "cell_type": "code",
   "execution_count": null,
   "id": "60348fab-9aad-43ef-8386-b23b37cd0f41",
   "metadata": {},
   "outputs": [],
   "source": [
    "# load salmon data\n",
    "X = io.mmread(\"../data/salmon_norm_counts.mtx\")\n",
    "alevin = ad.AnnData(X=X.transpose().tocsr())\n",
    "\n",
    "cell_meta = pd.read_csv(\"../data/salmon_metadata.csv\")\n",
    "\n",
    "with open(\"../data/salmon_gene_names.csv\", 'r') as f:\n",
    "    gene_names = f.read().splitlines()\n",
    "\n",
    "# add metadata\n",
    "alevin.obs = cell_meta\n",
    "alevin.obs.index = alevin.obs['barcode']\n",
    "alevin.var.index = gene_names\n",
    "\n",
    "# add raw count data\n",
    "alevin.layers[\"counts\"] = io.mmread(\"../data/salmon_raw_counts.mtx\").transpose().tocsr()"
   ]
  },
  {
   "cell_type": "code",
   "execution_count": null,
   "id": "12f80dd5-d6fe-4470-920e-c1e2dae9fc32",
   "metadata": {},
   "outputs": [],
   "source": [
    "# intersection of barcodes\n",
    "venny4py({\"Cellranger unfiltered\": set(adata.obs_names.tolist()),\n",
    "         \"Alevin unfiltered\": set(alevin.obs_names.tolist()),\n",
    "         \"Fu\": set(ref.obs_names.tolist())})\n",
    "plt.title(\"Intersection of barcodes\")"
   ]
  },
  {
   "cell_type": "code",
   "execution_count": null,
   "id": "07bb69f3-ebf6-44fe-bd3f-8dedbdacf6a9",
   "metadata": {},
   "outputs": [],
   "source": [
    "# intersection of genes\n",
    "venny4py({\"Cellranger unfiltered\": set(adata.var_names.tolist()),\n",
    "         \"Alevin unfiltered\": set(alevin.var_names.tolist()),\n",
    "         \"Fu\": set(ref.var_names.tolist())})\n",
    "plt.title(\"Intersection of genes\")"
   ]
  },
  {
   "cell_type": "code",
   "execution_count": null,
   "id": "5aa69580-d5a7-4204-b8e6-0231537a9531",
   "metadata": {},
   "outputs": [],
   "source": [
    "# get subset present in all 3 \n",
    "cell_subset =  list(set(alevin.obs_names.tolist()) & set(ref.obs_names.tolist()) & set(adata.obs_names.tolist()))\n",
    "gene_subset =  list(set(alevin.var_names.tolist()) & set(ref.var_names.tolist()) & set(adata.var_names.tolist()))\n",
    "\n",
    "# reduce to subset\n",
    "adata = adata[cell_subset, gene_subset]\n",
    "ref = ref[cell_subset, gene_subset]"
   ]
  },
  {
   "cell_type": "markdown",
   "id": "bade86e5-e59d-4dba-9909-65d654559c49",
   "metadata": {},
   "source": [
    "### preprocessing"
   ]
  },
  {
   "cell_type": "code",
   "execution_count": null,
   "id": "c3bb321d-20a4-404d-a8d9-624cba771cec",
   "metadata": {},
   "outputs": [],
   "source": [
    "# get highly variable features from reference\n",
    "variable_mask = [ref.var['highly_variable'][gene] for gene in adata.var_names.tolist()]\n",
    "adata.var['highly_variable'] = variable_mask"
   ]
  },
  {
   "cell_type": "code",
   "execution_count": null,
   "id": "0b5adf6c-4399-4a33-be0d-e653fcec28cf",
   "metadata": {},
   "outputs": [],
   "source": [
    "adata.var['highly_variable'].sum()"
   ]
  },
  {
   "cell_type": "code",
   "execution_count": null,
   "id": "a18bf3c7-c61e-4755-8110-a3831588313c",
   "metadata": {},
   "outputs": [],
   "source": [
    "# scale data\n",
    "sc.pp.scale(adata, max_value=10)"
   ]
  },
  {
   "cell_type": "code",
   "execution_count": null,
   "id": "96f0ae88-9666-4f69-9245-f38400048e4a",
   "metadata": {},
   "outputs": [],
   "source": [
    "# get PCA from reference\n",
    "adata.obsm[\"X_pca\"] = ref[adata.obs_names, adata.var_names].obsm[\"X_pca\"] "
   ]
  },
  {
   "cell_type": "code",
   "execution_count": null,
   "id": "73507688-b780-4d91-bbf1-d913830bb371",
   "metadata": {},
   "outputs": [],
   "source": [
    "# neighbors\n",
    "sc.pp.neighbors(adata, n_pcs=30, n_neighbors=20)"
   ]
  },
  {
   "cell_type": "code",
   "execution_count": null,
   "id": "412d04ed-86aa-4c82-aa17-3515ba85626b",
   "metadata": {},
   "outputs": [],
   "source": [
    "# get clusters from reference\n",
    "adata.obs[\"groups\"] = ref.obs[\"groups\"]"
   ]
  },
  {
   "cell_type": "code",
   "execution_count": null,
   "id": "1b61d724-65e0-4028-bef9-2ebb855ffd16",
   "metadata": {},
   "outputs": [],
   "source": [
    "# assign groups to clusters\n",
    "\n",
    "clusters = pd.Series(index=adata.obs.index)\n",
    "\n",
    "# assign cluster based on group values\n",
    "clusters[adata.obs['groups'].isin([\"c01\", \"c02\"])] = 'TRM'\n",
    "clusters[adata.obs['groups'].isin([\"c03\", \"c04\", \"c07\"])] = 'Teff/TRM'\n",
    "clusters[adata.obs['groups'].isin([\"c05\"])] = 'nonTRM'\n",
    "clusters[adata.obs['groups'].isin([\"c06\", \"c08\"])] = 'Tfh'\n",
    "clusters[adata.obs['groups'].isin([\"c10\"])] = 'Treg'\n",
    "\n",
    "# add to adata\n",
    "adata.obs['cluster'] = clusters"
   ]
  },
  {
   "cell_type": "code",
   "execution_count": null,
   "id": "195872fc-8475-4632-b4d0-24225678b92e",
   "metadata": {},
   "outputs": [],
   "source": [
    "# check gene expression\n",
    "markers = [\"CD4\", \"CD8A\", \"TRDC\", \"CD69\", \"RGS1\", \"CXCR6\", \"ITGA1\", \"RORC\", \"RUNX3\", \"IL22\", \"IFNG\", \"TNF\", \n",
    "           \"GZMA\", \"GZMB\", \"PRF1\", \"NKG7\", \"KLRK1\", \"EOMES\", \"TBX21\", \"ZNF683\", \"KLF2\", \"S1PR1\", \"SELL\", \n",
    "           \"CCR7\", \"TCF7\", \"BCL6\", \"MAF\", \"CXCR5\", \"PDCD1\", \"CXCL13\", \"CTLA4\", \"ICOS\", \"CD28\", \"IL21\", \n",
    "           \"PRDM1\", \"BATF\", \"FOXP3\"]\n",
    "\n",
    "sc.pl.dotplot(adata, markers, groupby='cluster', vmin=-1, vmax=1, vcenter=0, cmap=\"coolwarm\",\n",
    "             categories_order = [\"TRM\", \"Teff/TRM\", \"nonTRM\", \"Tfh\", \"Treg\"])"
   ]
  },
  {
   "cell_type": "code",
   "execution_count": null,
   "id": "6016d16e-7b59-4f45-a50c-3d6a9c7d510f",
   "metadata": {},
   "outputs": [],
   "source": [
    "# add UMAP coordinates from reference\n",
    "adata.obsm[\"X_umap\"] = ref.obsm[\"X_umap\"]"
   ]
  },
  {
   "cell_type": "code",
   "execution_count": null,
   "id": "20f11d14-906d-4c87-9988-b631be8ac3c6",
   "metadata": {},
   "outputs": [],
   "source": [
    "# plot UMAP\n",
    "sc.pl.umap(adata, color=\"groups\", dimensions=(0,1), palette=umap_colors)"
   ]
  },
  {
   "cell_type": "code",
   "execution_count": null,
   "id": "5fd4652d-2bf7-4822-a0f8-d79bf07946e8",
   "metadata": {},
   "outputs": [],
   "source": [
    "# save\n",
    "adata.write_h5ad(filename=\"../data/fu_cellranger.h5ad\")"
   ]
  }
 ],
 "metadata": {
  "kernelspec": {
   "display_name": "env1",
   "language": "python",
   "name": "env1"
  },
  "language_info": {
   "codemirror_mode": {
    "name": "ipython",
    "version": 3
   },
   "file_extension": ".py",
   "mimetype": "text/x-python",
   "name": "python",
   "nbconvert_exporter": "python",
   "pygments_lexer": "ipython3",
   "version": "3.11.0"
  }
 },
 "nbformat": 4,
 "nbformat_minor": 5
}
