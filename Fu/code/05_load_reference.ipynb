{
 "cells": [
  {
   "cell_type": "markdown",
   "id": "ea06403f-3f9a-4b21-ab99-fd079c1358b1",
   "metadata": {},
   "source": [
    "## Fu: load reference data"
   ]
  },
  {
   "cell_type": "code",
   "execution_count": null,
   "id": "01872913-2697-4a97-869b-f3daec5f4901",
   "metadata": {},
   "outputs": [],
   "source": [
    "import scanpy as sc\n",
    "import anndata\n",
    "from scipy import io\n",
    "from scipy.sparse import coo_matrix, csr_matrix\n",
    "import numpy as np\n",
    "import os\n",
    "import pandas as pd\n",
    "import matplotlib.pyplot as plt\n",
    "from matplotlib.colors import ListedColormap"
   ]
  },
  {
   "cell_type": "markdown",
   "id": "1a464d67-9f3f-4b82-8ed4-838610de34a4",
   "metadata": {},
   "source": [
    "#### create colormap for UMAPs"
   ]
  },
  {
   "cell_type": "code",
   "execution_count": null,
   "id": "10d86dd0-2f34-4f72-bd2b-5b5cf97ff870",
   "metadata": {},
   "outputs": [],
   "source": [
    "# list of HEX colors\n",
    "hex_colors = [\"#D90254\", \"#343AAD\", \"#04B2C6\", \"#73AF2A\", \"#FDB81E\", \"#5F3530\", \"#7F009E\", \"#0B7CE3\",\n",
    "              \"#088775\", \"#C0D33C\", \"#FB8606\", \"#888888\", \"#582399\", \"#269CFC\", \"#39A240\"]\n",
    "\n",
    "# convert HEX colors to RGB\n",
    "rgb_colors = [(int(color[1:3], 16)/255, int(color[3:5], 16)/255, int(color[5:7], 16)/255) for color in hex_colors]\n",
    "\n",
    "# create colormap\n",
    "cmap = ListedColormap(rgb_colors)\n",
    "\n",
    "# create dictionary to assign colors to clusters\n",
    "clusters = [\"c01\", \"c02\", \"c03\", \"c04\", \"c05\", \"c06\", \"c07\", \"c08\", \"c09\", \"c10\", \"c11\", \"c12\", \"c13\", \"c14\", \"c15\"]\n",
    "umap_colors = {}\n",
    "i = 0\n",
    "for cluster in clusters:\n",
    "    umap_colors[cluster] = cmap.colors[i]\n",
    "    i+=1"
   ]
  },
  {
   "cell_type": "markdown",
   "id": "1a4741a8-4e40-403e-8ca8-c3087b162e18",
   "metadata": {},
   "source": [
    "### load data"
   ]
  },
  {
   "cell_type": "code",
   "execution_count": null,
   "id": "4f520805-7a94-4868-9cd4-aeed200983d9",
   "metadata": {},
   "outputs": [],
   "source": [
    "X = io.mmread(\"../data/ref_norm_counts.mtx\")\n",
    "adata = anndata.AnnData(X=X.transpose().tocsr())\n",
    "\n",
    "cell_meta = pd.read_csv(\"../data/ref_metadata.csv\")\n",
    "\n",
    "with open(\"../data/ref_gene_names.csv\", 'r') as f:\n",
    "    gene_names = f.read().splitlines()\n",
    "\n",
    "# add metadata\n",
    "adata.obs = cell_meta\n",
    "adata.obs.index = adata.obs['barcode']\n",
    "adata.var.index = gene_names\n",
    "\n",
    "# add HVGs\n",
    "hvg = pd.read_csv(\"../data/ref_hvg.csv\")\n",
    "variable_mask = [gene in hvg.values for gene in adata.var_names.tolist()]\n",
    "adata.var['highly_variable'] = variable_mask\n",
    "\n",
    "# add PCA\n",
    "pca = pd.read_csv(\"../data/ref_pca.csv\")\n",
    "pca.index = adata.obs.index\n",
    "adata.obsm['X_pca'] = pca.to_numpy()\n",
    "\n",
    "# add UMAP\n",
    "adata.obsm['X_umap'] = np.vstack((adata.obs['UMAP_1'].to_numpy(), adata.obs['UMAP_2'].to_numpy())).T\n",
    "\n",
    "# add raw count data\n",
    "adata.layers[\"counts\"] = io.mmread(\"../data/ref_raw_counts.mtx\").transpose().tocsr()"
   ]
  },
  {
   "cell_type": "code",
   "execution_count": null,
   "id": "4f3ec976-9188-438d-938a-ecb37bc44c43",
   "metadata": {},
   "outputs": [],
   "source": [
    "adata"
   ]
  },
  {
   "cell_type": "markdown",
   "id": "385c3f14-a021-4a6a-a8eb-6970c4547b9b",
   "metadata": {},
   "source": [
    "### UMAP"
   ]
  },
  {
   "cell_type": "code",
   "execution_count": null,
   "id": "202d48f6-d836-4a2b-a20d-3731ed348cd5",
   "metadata": {},
   "outputs": [],
   "source": [
    "# plot UMAP\n",
    "sc.pl.umap(adata, color=\"groups\", dimensions=(0,1), palette=umap_colors, legend_loc='on data')"
   ]
  },
  {
   "cell_type": "markdown",
   "id": "1052c9b6-f123-40cb-8ac2-f45bfb57c150",
   "metadata": {},
   "source": [
    "### save"
   ]
  },
  {
   "cell_type": "code",
   "execution_count": null,
   "id": "7ba359a4-f7a0-4940-b40d-2840f91e3904",
   "metadata": {},
   "outputs": [],
   "source": [
    "# save\n",
    "adata.write_h5ad(filename=\"../data/fu_ref.h5ad\")"
   ]
  }
 ],
 "metadata": {
  "kernelspec": {
   "display_name": "env1",
   "language": "python",
   "name": "env1"
  },
  "language_info": {
   "codemirror_mode": {
    "name": "ipython",
    "version": 3
   },
   "file_extension": ".py",
   "mimetype": "text/x-python",
   "name": "python",
   "nbconvert_exporter": "python",
   "pygments_lexer": "ipython3",
   "version": "3.11.0"
  }
 },
 "nbformat": 4,
 "nbformat_minor": 5
}
