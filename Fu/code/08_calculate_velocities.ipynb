{
 "cells": [
  {
   "cell_type": "markdown",
   "id": "694f079a-8b5a-4331-b09f-64eae6e88d99",
   "metadata": {},
   "source": [
    "## Fu: calculate velocities"
   ]
  },
  {
   "cell_type": "code",
   "execution_count": null,
   "id": "88b95a2b-684e-484e-9bee-1a7d59d8a1fb",
   "metadata": {},
   "outputs": [],
   "source": [
    "import numpy as np\n",
    "import pandas as pd\n",
    "import scipy.stats as stats\n",
    "import scanpy as sc\n",
    "import anndata as ad\n",
    "import matplotlib.pyplot as plt\n",
    "import seaborn as sns\n",
    "from matplotlib.colors import ListedColormap\n",
    "import scvelo as scv"
   ]
  },
  {
   "cell_type": "markdown",
   "id": "5193ab53-1e23-4628-a324-7d72d00f9a7b",
   "metadata": {},
   "source": [
    "### colormap for UMAP"
   ]
  },
  {
   "cell_type": "code",
   "execution_count": null,
   "id": "858d128f-c33b-41c5-a838-601a9db2e7bc",
   "metadata": {},
   "outputs": [],
   "source": [
    "# list of HEX colors\n",
    "hex_colors = [\"#D90254\", \"#343AAD\", \"#04B2C6\", \"#73AF2A\", \"#FDB81E\", \"#5F3530\", \"#7F009E\", \"#0B7CE3\",\n",
    "              \"#088775\", \"#C0D33C\", \"#FB8606\", \"#888888\", \"#582399\", \"#269CFC\", \"#39A240\"]\n",
    "\n",
    "# convert HEX colors to RGB\n",
    "rgb_colors = [(int(color[1:3], 16)/255, int(color[3:5], 16)/255, int(color[5:7], 16)/255) for color in hex_colors]\n",
    "\n",
    "# create colormap\n",
    "cmap = ListedColormap(rgb_colors)\n",
    "\n",
    "# create dictionary to assign colors to clusters\n",
    "clusters = [\"c01\", \"c02\", \"c03\", \"c04\", \"c05\", \"c06\", \"c07\", \"c08\", \"c09\", \"c10\", \"c11\", \"c12\", \"c13\", \"c14\", \"c15\"]\n",
    "umap_colors = {}\n",
    "i = 0\n",
    "for cluster in clusters:\n",
    "    umap_colors[cluster] = cmap.colors[i]\n",
    "    i+=1"
   ]
  },
  {
   "cell_type": "markdown",
   "id": "bb498e1d-174e-4330-aef0-0df163d0d964",
   "metadata": {},
   "source": [
    "### read in data"
   ]
  },
  {
   "cell_type": "markdown",
   "id": "949f2c74-231a-4b32-9ba9-291ae80f473c",
   "metadata": {},
   "source": [
    "cellranger/velocyto files"
   ]
  },
  {
   "cell_type": "code",
   "execution_count": null,
   "id": "fdc48365-098e-40b3-81f7-15fc5dae09b3",
   "metadata": {},
   "outputs": [],
   "source": [
    "# adata files from cellranger\n",
    "cellranger = sc.read_h5ad(\"../data/fu_cellranger.h5ad\")"
   ]
  },
  {
   "cell_type": "code",
   "execution_count": null,
   "id": "235f64fc-fd53-4cfc-a025-76512017f628",
   "metadata": {},
   "outputs": [],
   "source": [
    "# loom files from velocyto\n",
    "ldata1 = scv.read('../velocyto/MJ001.loom', cache=True)\n",
    "ldata2 = scv.read('../velocyto/MJ002.loom', cache=True) \n",
    "ldata3 = scv.read('../velocyto/MJ003.loom', cache=True) \n",
    "ldata5 = scv.read('../velocyto/MJ005.loom', cache=True)\n",
    "ldata6 = scv.read('../velocyto/MJ006.loom', cache=True)\n",
    "ldata7 = scv.read('../velocyto/MJ007.loom', cache=True) \n",
    "ldata8 = scv.read('../velocyto/MJ008.loom', cache=True) \n",
    "ldata9 = scv.read('../velocyto/MJ009.loom', cache=True) \n",
    "ldata16 = scv.read('../velocyto/MJ016.loom', cache=True) \n",
    "ldata17 = scv.read('../velocyto/MJ017.loom', cache=True) \n",
    "ldata18 = scv.read('../velocyto/MJ018.loom', cache=True) \n",
    "ldata19 = scv.read('../velocyto/MJ019.loom', cache=True)"
   ]
  },
  {
   "cell_type": "code",
   "execution_count": null,
   "id": "be068db2-c3be-4e76-a402-36178ac2ea20",
   "metadata": {},
   "outputs": [],
   "source": [
    "# rename barcodes\n",
    "ldata1.obs_names = ldata1.obs_names.str.replace(\"x\", \"-1_1\").str.replace(\"MJ001:\", \"\")\n",
    "ldata2.obs_names = ldata2.obs_names.str.replace(\"x\", \"-1_2\").str.replace(\"MJ002:\", \"\")\n",
    "ldata3.obs_names = ldata3.obs_names.str.replace(\"x\", \"-1_3\").str.replace(\"MJ003:\", \"\")\n",
    "ldata5.obs_names = ldata5.obs_names.str.replace(\"x\", \"-1_4\").str.replace(\"MJ005:\", \"\")\n",
    "ldata6.obs_names = ldata6.obs_names.str.replace(\"x\", \"-1_5\").str.replace(\"MJ006:\", \"\")\n",
    "ldata7.obs_names = ldata7.obs_names.str.replace(\"x\", \"-1_12\").str.replace(\"MJ007:\", \"\")\n",
    "ldata8.obs_names = ldata8.obs_names.str.replace(\"x\", \"-1_6\").str.replace(\"MJ008:\", \"\")\n",
    "ldata9.obs_names = ldata9.obs_names.str.replace(\"x\", \"-1_7\").str.replace(\"MJ009:\", \"\")\n",
    "ldata16.obs_names = ldata16.obs_names.str.replace(\"x\", \"-1_8\").str.replace(\"MJ016:\", \"\")\n",
    "ldata17.obs_names = ldata17.obs_names.str.replace(\"x\", \"-1_9\").str.replace(\"MJ017:\", \"\")\n",
    "ldata18.obs_names = ldata18.obs_names.str.replace(\"x\", \"-1_10\").str.replace(\"MJ018:\", \"\")\n",
    "ldata19.obs_names = ldata19.obs_names.str.replace(\"x\", \"-1_11\").str.replace(\"MJ019:\", \"\")"
   ]
  },
  {
   "cell_type": "code",
   "execution_count": null,
   "id": "3ed912a3-d82f-4ab6-a7a3-f71fb93b4596",
   "metadata": {},
   "outputs": [],
   "source": [
    "# merge adata with loom file generated by velocyto\n",
    "adata1 = scv.utils.merge(cellranger[cellranger.obs['id'] == 'MJ001'], ldata1)\n",
    "adata2 = scv.utils.merge(cellranger[cellranger.obs['id'] == 'MJ002'], ldata2)\n",
    "adata3 = scv.utils.merge(cellranger[cellranger.obs['id'] == 'MJ003'], ldata3)\n",
    "adata5 = scv.utils.merge(cellranger[cellranger.obs['id'] == 'MJ005'], ldata5)\n",
    "adata6 = scv.utils.merge(cellranger[cellranger.obs['id'] == 'MJ006'], ldata6)\n",
    "adata7 = scv.utils.merge(cellranger[cellranger.obs['id'] == 'MJ007'], ldata7)\n",
    "adata8 = scv.utils.merge(cellranger[cellranger.obs['id'] == 'MJ008'], ldata8)\n",
    "adata9 = scv.utils.merge(cellranger[cellranger.obs['id'] == 'MJ009'], ldata9)\n",
    "adata16 = scv.utils.merge(cellranger[cellranger.obs['id'] == 'MJ016'], ldata16)\n",
    "adata17 = scv.utils.merge(cellranger[cellranger.obs['id'] == 'MJ017'], ldata17)\n",
    "adata18 = scv.utils.merge(cellranger[cellranger.obs['id'] == 'MJ018'], ldata18)\n",
    "adata19 = scv.utils.merge(cellranger[cellranger.obs['id'] == 'MJ019'], ldata19)"
   ]
  },
  {
   "cell_type": "code",
   "execution_count": null,
   "id": "cccc8e0d-7eb2-4ebc-8d3f-8160cece8829",
   "metadata": {},
   "outputs": [],
   "source": [
    "# concatenate samples\n",
    "velocyto = adata1.concatenate(adata2, adata3, adata5, adata6, adata7, adata8, adata9, adata16, adata17, adata18, adata19, index_unique=None)"
   ]
  },
  {
   "cell_type": "markdown",
   "id": "27adf068-e8b7-4ebc-b4ee-cc6b714ca276",
   "metadata": {},
   "source": [
    "alevin-fry file"
   ]
  },
  {
   "cell_type": "code",
   "execution_count": null,
   "id": "f8f95d44-d36d-44b9-8bab-e616a58c6895",
   "metadata": {},
   "outputs": [],
   "source": [
    "alevin = sc.read_h5ad(\"../data/fu_salmon.h5ad\")"
   ]
  },
  {
   "cell_type": "markdown",
   "id": "a3a4de05-3eaf-4122-a9c6-8cc8d5be3545",
   "metadata": {},
   "source": [
    "### compute velocities"
   ]
  },
  {
   "cell_type": "code",
   "execution_count": null,
   "id": "6d80fc7e-39bc-40e6-bc38-70da4cace9a7",
   "metadata": {},
   "outputs": [],
   "source": [
    "# preprocessing\n",
    "scv.pp.filter_genes(velocyto)\n",
    "scv.pp.normalize_per_cell(velocyto)\n",
    "\n",
    "scv.pp.filter_genes(alevin)\n",
    "scv.pp.normalize_per_cell(alevin)\n",
    "\n",
    "# ensure that highly variable genes are the same\n",
    "assert (velocyto.var[\"highly_variable\"].sort_index()).equals(alevin.var[\"highly_variable\"].sort_index()), \"computing velocities on different genes\""
   ]
  },
  {
   "cell_type": "code",
   "execution_count": null,
   "id": "5bab0efb-38d4-444f-a2c2-8051a2bbfdc5",
   "metadata": {},
   "outputs": [],
   "source": [
    "# compute neighborhood graph and moments for velocity estimation\n",
    "scv.pp.moments(velocyto)\n",
    "scv.pp.moments(alevin)"
   ]
  },
  {
   "cell_type": "code",
   "execution_count": null,
   "id": "a53e082f-b4ee-4b74-83e5-9be26c8187ca",
   "metadata": {},
   "outputs": [],
   "source": [
    "# separate into 3 objects for 3 modes (deterministic, stochastic, dynamical)\n",
    "velocyto_det = velocyto.copy()\n",
    "velocyto_sto = velocyto.copy()\n",
    "velocyto_dyn = velocyto.copy()\n",
    "\n",
    "alevin_det = alevin.copy()\n",
    "alevin_sto = alevin.copy()\n",
    "alevin_dyn = alevin.copy()"
   ]
  },
  {
   "cell_type": "markdown",
   "id": "3de1f669-ea16-4687-bfbb-1347f2a93b53",
   "metadata": {},
   "source": [
    "#### model = deterministic"
   ]
  },
  {
   "cell_type": "code",
   "execution_count": null,
   "id": "d4f2ba26-79ab-4b70-be13-7c248fdbd92d",
   "metadata": {},
   "outputs": [],
   "source": [
    "# calculate velocities: deterministic (= steady state = velocyto)\n",
    "scv.tl.velocity(velocyto_det, mode='deterministic', filter_genes=False)\n",
    "scv.tl.velocity_graph(velocyto_det)\n",
    "\n",
    "scv.tl.velocity(alevin_det, mode='deterministic', filter_genes=False)\n",
    "scv.tl.velocity_graph(alevin_det)"
   ]
  },
  {
   "cell_type": "code",
   "execution_count": null,
   "id": "331e0108-445a-4d68-9420-c6b09ac6cad2",
   "metadata": {},
   "outputs": [],
   "source": [
    "# embedding in UMAP\n",
    "scv.pl.velocity_embedding_grid(velocyto_det, basis='umap', color=\"cluster\", arrow_length = 2, palette=umap_colors,\n",
    "                               legend_loc = 'right_margin', xlabel = \"UMAP 1\", ylabel = \"UMAP 2\")\n",
    "\n",
    "scv.pl.velocity_embedding_grid(alevin_det, basis='umap', color=\"cluster\", arrow_length = 2, palette=umap_colors,\n",
    "                               legend_loc = 'right_margin', xlabel = \"UMAP 1\", ylabel = \"UMAP 2\")"
   ]
  },
  {
   "cell_type": "markdown",
   "id": "84696bd4-a6e7-48e5-9006-15f6807cf44f",
   "metadata": {},
   "source": [
    "#### model = stochastic"
   ]
  },
  {
   "cell_type": "code",
   "execution_count": null,
   "id": "a56a3451-856d-42d6-a1f5-d3321739d524",
   "metadata": {},
   "outputs": [],
   "source": [
    "# calculate velocities: stochastic \n",
    "scv.tl.velocity(velocyto_sto, mode='stochastic', filter_genes=False)\n",
    "scv.tl.velocity_graph(velocyto_sto)\n",
    "\n",
    "scv.tl.velocity(alevin_sto, mode='stochastic', filter_genes=False)\n",
    "scv.tl.velocity_graph(alevin_sto)"
   ]
  },
  {
   "cell_type": "code",
   "execution_count": null,
   "id": "f7d882bc-dda7-4f22-8a67-cbfd95d28741",
   "metadata": {},
   "outputs": [],
   "source": [
    "# embedding in UMAP\n",
    "scv.pl.velocity_embedding_grid(velocyto_sto, basis='umap', color=\"cluster\", arrow_length = 2, palette=umap_colors,\n",
    "                               legend_loc = 'right_margin', xlabel = \"UMAP 1\", ylabel = \"UMAP 2\")\n",
    "\n",
    "scv.pl.velocity_embedding_grid(alevin_sto, basis='umap', color=\"cluster\", arrow_length = 2, palette=umap_colors,\n",
    "                               legend_loc = 'right_margin', xlabel = \"UMAP 1\", ylabel = \"UMAP 2\")"
   ]
  },
  {
   "cell_type": "markdown",
   "id": "7915812b-8547-4433-863f-c510e141ed69",
   "metadata": {},
   "source": [
    "#### model = dynamical"
   ]
  },
  {
   "cell_type": "code",
   "execution_count": null,
   "id": "d21174d7-7915-4378-bb4a-14dc375d2244",
   "metadata": {},
   "outputs": [],
   "source": [
    "# calculate velocities: dynamical \n",
    "scv.tl.recover_dynamics(velocyto_dyn)\n",
    "scv.tl.velocity(velocyto_dyn, mode=\"dynamical\", filter_genes=False)\n",
    "\n",
    "scv.tl.recover_dynamics(alevin_dyn)\n",
    "scv.tl.velocity(alevin_dyn, mode=\"dynamical\", filter_genes=False)"
   ]
  },
  {
   "cell_type": "code",
   "execution_count": null,
   "id": "25e78cb6-33cb-4d5f-bf1d-0d262c281bc4",
   "metadata": {},
   "outputs": [],
   "source": [
    "# velocity graph\n",
    "scv.tl.velocity_graph(velocyto_dyn)\n",
    "\n",
    "scv.tl.velocity_graph(alevin_dyn)"
   ]
  },
  {
   "cell_type": "code",
   "execution_count": null,
   "id": "6a8c0901-2e9d-4a48-84cc-d03aac1eb139",
   "metadata": {},
   "outputs": [],
   "source": [
    "# embedding in UMAP\n",
    "scv.pl.velocity_embedding_grid(velocyto_dyn, basis='umap', color=\"cluster\", arrow_length = 2, palette=umap_colors,\n",
    "                               legend_loc = 'right_margin', xlabel = \"UMAP 1\", ylabel = \"UMAP 2\")\n",
    "\n",
    "scv.pl.velocity_embedding_grid(alevin_dyn, basis='umap', color=\"cluster\", arrow_length = 2, palette=umap_colors,\n",
    "                               legend_loc = 'right_margin', xlabel = \"UMAP 1\", ylabel = \"UMAP 2\")"
   ]
  },
  {
   "cell_type": "markdown",
   "id": "ac0fe387-293c-4a59-b36e-571188b71051",
   "metadata": {},
   "source": [
    "### save"
   ]
  },
  {
   "cell_type": "code",
   "execution_count": null,
   "id": "5e33196a-e4a2-4191-9143-428102f08f28",
   "metadata": {},
   "outputs": [],
   "source": [
    "velocyto_sto.write_h5ad(filename=\"../data/fu_velocyto.h5ad\")\n",
    "alevin_sto.write_h5ad(filename=\"../data/fu_alevin.h5ad\")"
   ]
  }
 ],
 "metadata": {
  "kernelspec": {
   "display_name": "env1",
   "language": "python",
   "name": "env1"
  },
  "language_info": {
   "codemirror_mode": {
    "name": "ipython",
    "version": 3
   },
   "file_extension": ".py",
   "mimetype": "text/x-python",
   "name": "python",
   "nbconvert_exporter": "python",
   "pygments_lexer": "ipython3",
   "version": "3.11.0"
  }
 },
 "nbformat": 4,
 "nbformat_minor": 5
}
