{
 "cells": [
  {
   "cell_type": "markdown",
   "id": "b62da5e4-7255-4f1a-b95d-b8efb24dc019",
   "metadata": {},
   "source": [
    "## Stewart: filtering of salmon data"
   ]
  },
  {
   "cell_type": "code",
   "execution_count": null,
   "id": "6c22b1d3-a545-412d-8242-7c60b8b8db95",
   "metadata": {},
   "outputs": [],
   "source": [
    "import numpy as np\n",
    "import pandas as pd\n",
    "import scanpy as sc\n",
    "import anndata as ad\n",
    "from scipy.sparse import csr_matrix\n",
    "from matplotlib_venn import venn2\n",
    "import scvelo as scv\n",
    "from pyroe import load_fry"
   ]
  },
  {
   "cell_type": "markdown",
   "id": "4b5892b6-34d8-41f8-a1ba-d06600bc39bc",
   "metadata": {},
   "source": [
    "#### load expression matrices of all samples"
   ]
  },
  {
   "cell_type": "code",
   "execution_count": null,
   "id": "b3b4dbab-ac5a-4ba8-be10-9c7434b7cf98",
   "metadata": {},
   "outputs": [],
   "source": [
    "# load alevin-fry output files\n",
    "naive = load_fry(\"/mnt/volume/students/doreen/salmon/naive/naive_quant_res\", output_format = \"all\")\n",
    "trans = load_fry(\"/mnt/volume/students/doreen/salmon/trans/trans_quant_res\", output_format = \"all\")\n",
    "igmmem = load_fry(\"/mnt/volume/students/doreen/salmon/igmmem/igmmem_quant_res\", output_format = \"all\")\n",
    "classical = load_fry(\"/mnt/volume/students/doreen/salmon/classical/classical_quant_res\", output_format = \"all\")\n",
    "dn = load_fry(\"/mnt/volume/students/doreen/salmon/dn/dn_quant_res\", output_format = \"all\")"
   ]
  },
  {
   "cell_type": "code",
   "execution_count": null,
   "id": "991632d6-35ef-4b2f-b4ab-978c8ebeec3c",
   "metadata": {},
   "outputs": [],
   "source": [
    "# add population to obs\n",
    "naive.obs['population'] = 'Naive'\n",
    "trans.obs['population'] = 'Transitional'\n",
    "igmmem.obs['population'] = 'IgM-Memory'\n",
    "classical.obs['population'] = 'Classical-Memory'\n",
    "dn.obs['population'] = 'DN'"
   ]
  },
  {
   "cell_type": "code",
   "execution_count": null,
   "id": "ae9de74d-c0b9-42d7-b118-fa4168afbf54",
   "metadata": {},
   "outputs": [],
   "source": [
    "# make list of all samples\n",
    "adata_list = [classical, naive, trans, igmmem, dn]"
   ]
  },
  {
   "cell_type": "markdown",
   "id": "b4ca8d09-0dd9-4895-a066-afcf5e3ffd9d",
   "metadata": {},
   "source": [
    "#### compare barcodes to reference paper"
   ]
  },
  {
   "cell_type": "code",
   "execution_count": null,
   "id": "d0254d45-b577-4f06-acba-848688fbe90c",
   "metadata": {},
   "outputs": [],
   "source": [
    "# get processed object from reference paper\n",
    "ref = sc.read_h5ad(\"../../data/Stewart/stewart_reference.h5ad\")"
   ]
  },
  {
   "cell_type": "code",
   "execution_count": null,
   "id": "7f5334d0-7b90-4003-a5f7-7eb5f86c1d81",
   "metadata": {},
   "outputs": [],
   "source": [
    "# rename barcode suffixes to match naming of reference object\n",
    "for i in range(len(adata_list)):\n",
    "    adata_list[i].obs_names = adata_list[i].obs_names + \"-\" + str(i+1)\n",
    "\n",
    "# merge all samples\n",
    "adata_unfiltered = ad.concat(adata_list)"
   ]
  },
  {
   "cell_type": "code",
   "execution_count": null,
   "id": "b4094771-b1b1-40e5-b74d-447cf9b29022",
   "metadata": {},
   "outputs": [],
   "source": [
    "# get intersection with reference\n",
    "venn2([set(adata_unfiltered.obs_names.tolist()), set(ref.obs_names.tolist())], set_labels = [\"Salmon unfiltered\", \"Stewart\"])"
   ]
  },
  {
   "cell_type": "markdown",
   "id": "304c0c1c-d72d-4366-b51e-7e9faf825a8f",
   "metadata": {},
   "source": [
    "#### rename genes"
   ]
  },
  {
   "cell_type": "code",
   "execution_count": null,
   "id": "5cf9d5c1-344e-44ec-99bd-a82b0f05eec0",
   "metadata": {},
   "outputs": [],
   "source": [
    "# convert gene IDs to gene names\n",
    "e2n_path = \"../../splici_references/GRCh38-2020-A_geneid_to_name.txt\"\n",
    "e2n = dict([ l.rstrip().split() for l in open(e2n_path).readlines()])\n",
    "adata_unfiltered.var_names = [e2n[e] for e in adata_unfiltered.var_names]"
   ]
  },
  {
   "cell_type": "code",
   "execution_count": null,
   "id": "ee9acec9-ea2f-42db-93b5-141ff0fc5d33",
   "metadata": {},
   "outputs": [],
   "source": [
    "adata_unfiltered.var_names_make_unique()"
   ]
  },
  {
   "cell_type": "markdown",
   "id": "08ebfa3b-b7ff-4bda-9016-5ffa4fa08fbb",
   "metadata": {},
   "source": [
    "#### add spliced, unspliced and ambiguous counts"
   ]
  },
  {
   "cell_type": "code",
   "execution_count": null,
   "id": "725c5433-978a-49e6-8776-09e677bfccc9",
   "metadata": {},
   "outputs": [],
   "source": [
    "# load alevin-fry output files using mode = raw\n",
    "naive = load_fry(\"../../salmon/naive/naive_quant_res\", output_format = \"raw\")\n",
    "trans = load_fry(\"../../salmon/trans/trans_quant_res\", output_format = \"raw\")\n",
    "igmmem = load_fry(\"../../salmon/igmmem/igmmem_quant_res\", output_format = \"raw\")\n",
    "classical = load_fry(\"../../salmon/classical/classical_quant_res\", output_format = \"raw\")\n",
    "dn = load_fry(\"../../salmon/dn/dn_quant_res\", output_format = \"raw\")"
   ]
  },
  {
   "cell_type": "code",
   "execution_count": null,
   "id": "963e68c4-6818-451b-9e49-65ce432bea9f",
   "metadata": {},
   "outputs": [],
   "source": [
    "# rename barcode suffixes to match naming of reference object\n",
    "usa_list = [classical, naive, trans, igmmem, dn]\n",
    "for i in range(len(usa_list)):\n",
    "    usa_list[i].obs_names = usa_list[i].obs_names + \"-\" + str(i+1)\n",
    "\n",
    "usa = ad.concat(usa_list)"
   ]
  },
  {
   "cell_type": "code",
   "execution_count": null,
   "id": "3067467e-8075-4a28-9d6c-8855d75da3dc",
   "metadata": {},
   "outputs": [],
   "source": [
    "# convert gene IDs to gene names\n",
    "usa.var_names = [e2n[e] for e in usa.var_names]\n",
    "usa.var_names_make_unique()"
   ]
  },
  {
   "cell_type": "code",
   "execution_count": null,
   "id": "d9bf2c55-2bba-4953-989f-eb99cd1e0a8d",
   "metadata": {},
   "outputs": [],
   "source": [
    "# get same ordering as in adata\n",
    "usa = usa[adata.obs_names, adata.var_names]"
   ]
  },
  {
   "cell_type": "code",
   "execution_count": null,
   "id": "7c6ed64d-009b-454e-848f-a99fc0e6b893",
   "metadata": {},
   "outputs": [],
   "source": [
    "# add spliced, unspliced, ambiguous layers to adata\n",
    "adata.layers[\"spliced\"] = usa.layers[\"spliced\"]\n",
    "adata.layers[\"unspliced\"] = usa.layers[\"unspliced\"]\n",
    "adata.layers[\"ambiguous\"] = usa.layers[\"ambiguous\"]"
   ]
  },
  {
   "cell_type": "markdown",
   "id": "c379d23c-44fa-4137-b520-872945224777",
   "metadata": {},
   "source": [
    "#### manual filtering"
   ]
  },
  {
   "cell_type": "code",
   "execution_count": null,
   "id": "7a515e4f-4384-422a-b9f1-0c5d9498d371",
   "metadata": {},
   "outputs": [],
   "source": [
    "# select only B-cells (note: GCGR3A not in dataset!)\n",
    "adata_filtered_1 = adata_unfiltered[adata_unfiltered[:, [\"CD3E\", \"GNLY\", \"CD14\", \"FCER1A\", \"LYZ\", \"PPBP\", \"CD8A\"]].X.sum(axis=1) == 0, :]"
   ]
  },
  {
   "cell_type": "code",
   "execution_count": null,
   "id": "7aaddaab-0190-4ce0-9fff-46e61b0711bb",
   "metadata": {},
   "outputs": [],
   "source": [
    "# select only cells which express at least 200 distinct genes\n",
    "\n",
    "# add nFeatureRNA as obs\n",
    "adata_filtered_1.obs['nFeature_RNA'] = adata_filtered_1.X.getnnz(axis=1)\n",
    "\n",
    "# filter\n",
    "adata_filtered_2 = adata_filtered_1[adata_filtered_1.obs['nFeature_RNA'] >= 200].copy()"
   ]
  },
  {
   "cell_type": "code",
   "execution_count": null,
   "id": "d3b20d6b-042c-4fda-a4a2-41b5ed755d21",
   "metadata": {},
   "outputs": [],
   "source": [
    "# remove cells with total transcript count in the top 1% percentile\n",
    "\n",
    "# calculate total transcript count for each cell\n",
    "total_counts = adata_filtered_2.X.sum(axis=1)\n",
    "\n",
    "# get threshold = 99% percentile\n",
    "threshold = np.percentile(total_counts.A1, 99)\n",
    "\n",
    "# filter out cells with total transcript count above the threshold\n",
    "adata_filtered = adata_filtered_2[total_counts < threshold, :]"
   ]
  },
  {
   "cell_type": "code",
   "execution_count": null,
   "id": "74fda334-3880-43e6-8e73-7ee82d2578d0",
   "metadata": {},
   "outputs": [],
   "source": [
    "# compare to reference again\n",
    "venn2([set(adata_filtered.obs_names.tolist()), set(ref.obs_names.tolist())], set_labels = [\"Salmon processed\", \"Stewart processed\"])"
   ]
  },
  {
   "cell_type": "code",
   "execution_count": null,
   "id": "61133754-3e1c-41ac-91bb-d7bcc482e551",
   "metadata": {},
   "outputs": [],
   "source": [
    "# save\n",
    "adata_filtered.write_h5ad(filename=\"../../data/Stewart/stewart_salmon_unprocessed.h5ad\")"
   ]
  }
 ],
 "metadata": {
  "kernelspec": {
   "display_name": "env1",
   "language": "python",
   "name": "env1"
  },
  "language_info": {
   "codemirror_mode": {
    "name": "ipython",
    "version": 3
   },
   "file_extension": ".py",
   "mimetype": "text/x-python",
   "name": "python",
   "nbconvert_exporter": "python",
   "pygments_lexer": "ipython3",
   "version": "3.11.0"
  }
 },
 "nbformat": 4,
 "nbformat_minor": 5
}
