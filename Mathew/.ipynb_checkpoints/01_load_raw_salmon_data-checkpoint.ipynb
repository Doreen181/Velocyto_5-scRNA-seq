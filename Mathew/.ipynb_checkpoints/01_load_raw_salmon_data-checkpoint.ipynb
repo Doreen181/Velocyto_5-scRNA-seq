{
 "cells": [
  {
   "cell_type": "markdown",
   "id": "53cea735-4939-4e91-90a0-f47e18541590",
   "metadata": {},
   "source": [
    "## Mathew: load unprocessed Cell Ranger and salmon data"
   ]
  },
  {
   "cell_type": "code",
   "execution_count": null,
   "id": "f17d2efb-4b1b-4aa8-8126-9edce4df406c",
   "metadata": {},
   "outputs": [],
   "source": [
    "import numpy as np\n",
    "import pandas as pd\n",
    "import os\n",
    "import scanpy as sc\n",
    "import anndata as ad\n",
    "from scipy.sparse import csr_matrix\n",
    "from pyroe import load_fry\n",
    "import matplotlib.pyplot as plt\n",
    "from matplotlib.colors import ListedColormap\n",
    "from matplotlib_venn import venn2\n",
    "from venny4py.venny4py import *\n",
    "import scvelo as scv\n",
    "import re\n",
    "import louvain\n",
    "from skmisc.loess import loess\n",
    "from skbio.diversity.alpha import simpson, gini_index\n",
    "import warnings\n",
    "import sys\n",
    "import ensembl_rest\n",
    "import time\n",
    "from Ensembl_converter import EnsemblConverter"
   ]
  },
  {
   "cell_type": "markdown",
   "id": "8089bebf-b4a4-4137-8929-bce58f1cd9aa",
   "metadata": {},
   "source": [
    "## Cell Ranger"
   ]
  },
  {
   "cell_type": "markdown",
   "id": "65f37b53-a34b-4f7c-bfbd-2871afd2fb70",
   "metadata": {},
   "source": [
    "### load expression matrices"
   ]
  },
  {
   "cell_type": "code",
   "execution_count": null,
   "id": "a7033c73-579b-4b88-81f1-034d77abd0d1",
   "metadata": {},
   "outputs": [],
   "source": [
    "# load metadata\n",
    "#meta = pd.read_csv(\"../../Mathew/preprocessing_scripts/metadata.csv\", index_col=0)\n",
    "meta = pd.read_csv(\"~/data/Mathew/data/metadata.csv\", index_col=0)\n",
    "meta"
   ]
  },
  {
   "cell_type": "code",
   "execution_count": null,
   "id": "0c530487-5b42-46c8-a256-ea6268b239d2",
   "metadata": {},
   "outputs": [],
   "source": [
    "adatas = []\n",
    "path = \"../../cellranger/mathew\"\n",
    "\n",
    "for _, folders, _ in os.walk(path):\n",
    "    for folder in folders:\n",
    "        if folder.startswith(\"Sample\"):\n",
    "\n",
    "            # get adata\n",
    "            adata = sc.read_10x(path + \"/\" + folder)\n",
    "            \n",
    "            # add metadata\n",
    "            for col_name, col_data in meta.loc[folder].items():\n",
    "                adata.obs[col_name] = col_data\n",
    "    \n",
    "            # add ID\n",
    "            adata.obs[\"id\"] = folder\n",
    "    \n",
    "            # append to list\n",
    "            adatas.append(adata)"
   ]
  },
  {
   "cell_type": "code",
   "execution_count": null,
   "id": "aae5f752-8f2e-49e3-abcd-0292620aa6fc",
   "metadata": {},
   "outputs": [],
   "source": [
    "# merge all samples\n",
    "adata = ad.concat(adatas)\n",
    "adata"
   ]
  },
  {
   "cell_type": "code",
   "execution_count": null,
   "id": "1034ca5b-775e-4679-bf96-feaf5e03c35b",
   "metadata": {},
   "outputs": [],
   "source": [
    "# save\n",
    "adata.write_h5ad(\"../../data/Mathew/mathew_cellranger_raw.h5ad\")"
   ]
  },
  {
   "cell_type": "markdown",
   "id": "b91b404b-8f36-445a-9e3b-52f76872fa5c",
   "metadata": {},
   "source": [
    "## Salmon"
   ]
  },
  {
   "cell_type": "markdown",
   "id": "30d5457a-d8a3-45f4-98a2-8d5692539985",
   "metadata": {},
   "source": [
    "### load expression matrices"
   ]
  },
  {
   "cell_type": "code",
   "execution_count": null,
   "id": "135ebada-282c-4bf7-b39f-ecc5b675d959",
   "metadata": {},
   "outputs": [],
   "source": [
    "adatas = []\n",
    "path = \"../salmon/mathew\"\n",
    "\n",
    "for _, folders, _ in os.walk(path):\n",
    "    for folder in folders:\n",
    "\n",
    "        if folder.startswith(\"SampleID\"):\n",
    "        \n",
    "            # get adata\n",
    "            adata = load_fry(path + \"/\" + folder + \"/_quant_res\", output_format = \"all\")\n",
    "            \n",
    "            # add metadata\n",
    "            for col_name, col_data in meta.loc[folder].items():\n",
    "                adata.obs[col_name] = col_data\n",
    "    \n",
    "            # add ID\n",
    "            adata.obs[\"id\"] = folder\n",
    "\n",
    "            # rename obs names\n",
    "            adata.obs_names = [bc + \"_\" + folder for bc in adata.obs_names]\n",
    "    \n",
    "            # append to list\n",
    "            adatas.append(adata)"
   ]
  },
  {
   "cell_type": "code",
   "execution_count": null,
   "id": "db1893c9-287b-4565-88ca-18163939ced8",
   "metadata": {},
   "outputs": [],
   "source": [
    "# merge all samples\n",
    "adata = ad.concat(adatas)\n",
    "adata"
   ]
  },
  {
   "cell_type": "code",
   "execution_count": null,
   "id": "9c62948e-b05d-4752-a872-c662796caf62",
   "metadata": {},
   "outputs": [],
   "source": [
    "# rename genes from ensembl ID to gene ID\n",
    "e2n_path = \"../../splici_references/mm10-2020-A_geneid_to_name.txt\"\n",
    "e2n = dict([ l.rstrip().split() for l in open(e2n_path).readlines()])\n",
    "adata.var_names = [e2n[e] for e in adata.var_names]"
   ]
  },
  {
   "cell_type": "markdown",
   "id": "f5019637-8375-4aa6-a6f3-77113cee587c",
   "metadata": {},
   "source": [
    "### add spliced, unspliced and ambiguous counts"
   ]
  },
  {
   "cell_type": "code",
   "execution_count": null,
   "id": "ac59d433-0cf5-4c90-9328-274af62d2c9b",
   "metadata": {},
   "outputs": [],
   "source": [
    "# load alevin-fry output files using mode = raw\n",
    "adatas_usa = []\n",
    "\n",
    "for _, folders, _ in os.walk(path):\n",
    "    for folder in folders:\n",
    "\n",
    "        if folder.startswith(\"SampleID\"):\n",
    "        \n",
    "            # get adata\n",
    "            adata = load_fry(path + \"/\" + folder + \"/_quant_res\", output_format = \"raw\")\n",
    "            \n",
    "            # add metadata\n",
    "            for col_name, col_data in meta.loc[folder].items():\n",
    "                adata.obs[col_name] = col_data\n",
    "    \n",
    "            # add ID\n",
    "            adata.obs[\"id\"] = folder\n",
    "\n",
    "            # rename obs names\n",
    "            adata.obs_names = [bc + \"_\" + folder for bc in adata.obs_names]\n",
    "    \n",
    "            # append to list\n",
    "            adatas_usa.append(adata)"
   ]
  },
  {
   "cell_type": "code",
   "execution_count": null,
   "id": "debcbb7d-b69a-419d-bd86-cdd124bf12e2",
   "metadata": {},
   "outputs": [],
   "source": [
    "# merge all samples\n",
    "usa = ad.concat(adatas_usa)\n",
    "usa"
   ]
  },
  {
   "cell_type": "code",
   "execution_count": null,
   "id": "824ae419-a04d-4494-bbec-9be79d0bffbe",
   "metadata": {},
   "outputs": [],
   "source": [
    "# convert gene IDs to gene names\n",
    "usa.var_names = [e2n[e] for e in usa.var_names]\n",
    "usa.var_names_make_unique()"
   ]
  },
  {
   "cell_type": "code",
   "execution_count": null,
   "id": "5a31316a-91cf-47c0-9920-99cbac4eb27e",
   "metadata": {},
   "outputs": [],
   "source": [
    "# get same bc and cell ordering as in adata object\n",
    "usa = usa[adata.obs_names, adata.var_names]"
   ]
  },
  {
   "cell_type": "code",
   "execution_count": null,
   "id": "49e7c007-8cc4-4a1c-81bb-a7b5e05822ef",
   "metadata": {},
   "outputs": [],
   "source": [
    "# add spliced, unspliced, ambiguous layers to hb6\n",
    "adata.layers[\"spliced\"] = usa.layers[\"spliced\"]\n",
    "adata.layers[\"unspliced\"] = usa.layers[\"unspliced\"]\n",
    "adata.layers[\"ambiguous\"] = usa.layers[\"ambiguous\"]"
   ]
  },
  {
   "cell_type": "code",
   "execution_count": null,
   "id": "b3f2f481-55de-4006-be49-9eb0d920a6a4",
   "metadata": {},
   "outputs": [],
   "source": [
    "# save\n",
    "adata.write_h5ad(\"../../data/Mathew/mathew_salmon_raw.h5ad\")"
   ]
  }
 ],
 "metadata": {
  "kernelspec": {
   "display_name": "env1",
   "language": "python",
   "name": "env1"
  },
  "language_info": {
   "codemirror_mode": {
    "name": "ipython",
    "version": 3
   },
   "file_extension": ".py",
   "mimetype": "text/x-python",
   "name": "python",
   "nbconvert_exporter": "python",
   "pygments_lexer": "ipython3",
   "version": "3.11.0"
  }
 },
 "nbformat": 4,
 "nbformat_minor": 5
}
