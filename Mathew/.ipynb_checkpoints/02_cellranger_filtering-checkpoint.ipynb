{
 "cells": [
  {
   "cell_type": "markdown",
   "id": "b62da5e4-7255-4f1a-b95d-b8efb24dc019",
   "metadata": {},
   "source": [
    "## Stewart: filtering of Cell Ranger data"
   ]
  },
  {
   "cell_type": "code",
   "execution_count": null,
   "id": "6c22b1d3-a545-412d-8242-7c60b8b8db95",
   "metadata": {},
   "outputs": [],
   "source": [
    "import numpy as np\n",
    "import pandas as pd\n",
    "import scanpy as sc\n",
    "import anndata as ad\n",
    "from scipy.sparse import csr_matrix\n",
    "from matplotlib_venn import venn2\n",
    "import scvelo as scv"
   ]
  },
  {
   "cell_type": "markdown",
   "id": "4b5892b6-34d8-41f8-a1ba-d06600bc39bc",
   "metadata": {},
   "source": [
    "#### load expression matrices of all samples"
   ]
  },
  {
   "cell_type": "code",
   "execution_count": null,
   "id": "b3b4dbab-ac5a-4ba8-be10-9c7434b7cf98",
   "metadata": {},
   "outputs": [],
   "source": [
    "naive = sc.read_10x_mtx(\"../../cellranger/stewart/naive/outs/filtered_feature_bc_matrix\")\n",
    "trans = sc.read_10x_mtx(\"../../cellranger/stewart/trans/outs/filtered_feature_bc_matrix\")\n",
    "igmmem = sc.read_10x_mtx(\"../../cellranger/stewart/igmmem/outs/filtered_feature_bc_matrix\")\n",
    "classical = sc.read_10x_mtx(\"../../cellranger/stewart/classical/outs/filtered_feature_bc_matrix\")\n",
    "dn = sc.read_10x_mtx(\"../../cellranger/stewart/dn/outs/filtered_feature_bc_matrix\")"
   ]
  },
  {
   "cell_type": "code",
   "execution_count": null,
   "id": "991632d6-35ef-4b2f-b4ab-978c8ebeec3c",
   "metadata": {},
   "outputs": [],
   "source": [
    "# add population to obs\n",
    "naive.obs['population'] = 'Naive'\n",
    "trans.obs['population'] = 'Transitional'\n",
    "igmmem.obs['population'] = 'IgM-Memory'\n",
    "classical.obs['population'] = 'Classical-Memory'\n",
    "dn.obs['population'] = 'DN'"
   ]
  },
  {
   "cell_type": "code",
   "execution_count": null,
   "id": "ae9de74d-c0b9-42d7-b118-fa4168afbf54",
   "metadata": {},
   "outputs": [],
   "source": [
    "# make list of all samples\n",
    "adata_list = [classical, naive, trans, igmmem, dn]"
   ]
  },
  {
   "cell_type": "markdown",
   "id": "b4ca8d09-0dd9-4895-a066-afcf5e3ffd9d",
   "metadata": {},
   "source": [
    "#### compare barcodes to reference paper"
   ]
  },
  {
   "cell_type": "code",
   "execution_count": null,
   "id": "d0254d45-b577-4f06-acba-848688fbe90c",
   "metadata": {},
   "outputs": [],
   "source": [
    "# get processed object from reference paper\n",
    "ref = sc.read_h5ad(\"../../data/Stewart/stewart_reference.h5ad\")"
   ]
  },
  {
   "cell_type": "code",
   "execution_count": null,
   "id": "7f5334d0-7b90-4003-a5f7-7eb5f86c1d81",
   "metadata": {},
   "outputs": [],
   "source": [
    "# rename barcode suffixes to match naming of reference object\n",
    "for i in range(len(adata_list)):\n",
    "    adata_list[i].obs_names = adata_list[i].obs_names.str.replace(\"1\", str(i+1))\n",
    "\n",
    "# merge all samples\n",
    "adata_unfiltered = ad.concat(adata_list)"
   ]
  },
  {
   "cell_type": "code",
   "execution_count": null,
   "id": "b4094771-b1b1-40e5-b74d-447cf9b29022",
   "metadata": {},
   "outputs": [],
   "source": [
    "# get intersection with reference\n",
    "venn2([set(adata_unfiltered.obs_names.tolist()), set(ref.obs_names.tolist())], set_labels = [\"Cellranger unfiltered\", \"Stewart processed\"])"
   ]
  },
  {
   "cell_type": "markdown",
   "id": "c379d23c-44fa-4137-b520-872945224777",
   "metadata": {},
   "source": [
    "#### manual filtering"
   ]
  },
  {
   "cell_type": "code",
   "execution_count": null,
   "id": "7a515e4f-4384-422a-b9f1-0c5d9498d371",
   "metadata": {},
   "outputs": [],
   "source": [
    "# select only B-cells (note: GCGR3A not in dataset!)\n",
    "adata_filtered_1 = adata_unfiltered[adata_unfiltered[:, [\"CD3E\", \"GNLY\", \"CD14\", \"FCER1A\", \"LYZ\", \"PPBP\", \"CD8A\"]].X.sum(axis=1) == 0, :]"
   ]
  },
  {
   "cell_type": "code",
   "execution_count": null,
   "id": "7aaddaab-0190-4ce0-9fff-46e61b0711bb",
   "metadata": {},
   "outputs": [],
   "source": [
    "# select only cells which express at least 200 distinct genes\n",
    "\n",
    "# add nFeatureRNA as obs\n",
    "adata_filtered_1.obs['nFeature_RNA'] = adata_filtered_1.X.getnnz(axis=1)\n",
    "\n",
    "# filter\n",
    "adata_filtered_2 = adata_filtered_1[adata_filtered_1.obs['nFeature_RNA'] >= 200].copy()"
   ]
  },
  {
   "cell_type": "code",
   "execution_count": null,
   "id": "d3b20d6b-042c-4fda-a4a2-41b5ed755d21",
   "metadata": {},
   "outputs": [],
   "source": [
    "# remove cells with total transcript count in the top 1% percentile\n",
    "\n",
    "# calculate total transcript count for each cell\n",
    "total_counts = adata_filtered_2.X.sum(axis=1)\n",
    "\n",
    "# get threshold = 99% percentile\n",
    "threshold = np.percentile(total_counts.A1, 99)\n",
    "\n",
    "# filter out cells with total transcript count above the threshold\n",
    "adata_filtered = adata_filtered_2[total_counts < threshold, :]"
   ]
  },
  {
   "cell_type": "code",
   "execution_count": null,
   "id": "74fda334-3880-43e6-8e73-7ee82d2578d0",
   "metadata": {},
   "outputs": [],
   "source": [
    "# compare to reference again\n",
    "venn2([set(adata_filtered.obs_names.tolist()), set(ref.obs_names.tolist())], set_labels = [\"Cellranger processed\", \"Stewart processed\"])"
   ]
  },
  {
   "cell_type": "code",
   "execution_count": null,
   "id": "9c9bc6f3-a498-41d3-a08f-45c73a53a0bd",
   "metadata": {},
   "outputs": [],
   "source": [
    "# save \n",
    "adata_filtered.write_h5ad(filename=\"../../data/Stewart/stewart_cellranger_unprocessed.h5ad\")"
   ]
  }
 ],
 "metadata": {
  "kernelspec": {
   "display_name": "env1",
   "language": "python",
   "name": "env1"
  },
  "language_info": {
   "codemirror_mode": {
    "name": "ipython",
    "version": 3
   },
   "file_extension": ".py",
   "mimetype": "text/x-python",
   "name": "python",
   "nbconvert_exporter": "python",
   "pygments_lexer": "ipython3",
   "version": "3.11.0"
  }
 },
 "nbformat": 4,
 "nbformat_minor": 5
}
