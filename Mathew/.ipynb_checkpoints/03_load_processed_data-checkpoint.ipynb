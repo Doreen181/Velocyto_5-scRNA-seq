{
 "cells": [
  {
   "cell_type": "markdown",
   "id": "8ec6ebd4-aa66-40d8-ab58-6cc707317415",
   "metadata": {},
   "source": [
    "## Mathew: load preprocessed data from Cell Ranger and salmon"
   ]
  },
  {
   "cell_type": "code",
   "execution_count": null,
   "id": "de0240f0-9a2b-4c2c-98a7-6eb6e707a67b",
   "metadata": {},
   "outputs": [],
   "source": [
    "import numpy as np\n",
    "import pandas as pd\n",
    "import os\n",
    "import scanpy as sc\n",
    "import anndata as ad\n",
    "from scipy.sparse import csr_matrix\n",
    "import matplotlib.pyplot as plt\n",
    "from matplotlib.colors import ListedColormap\n",
    "from matplotlib_venn import venn2\n",
    "from venny4py.venny4py import *\n",
    "import scirpy as ir"
   ]
  },
  {
   "cell_type": "markdown",
   "id": "b71b2990-be70-4f39-80a0-ac76d6247739",
   "metadata": {},
   "source": [
    "### read in data"
   ]
  },
  {
   "cell_type": "code",
   "execution_count": null,
   "id": "90d1a2c4-9abc-4182-8553-5d23402367a9",
   "metadata": {},
   "outputs": [],
   "source": [
    "cellranger = sc.read_h5ad(\"../../data/Mathew/processed_seurat_cellranger.h5ad\")\n",
    "salmon = sc.read_h5ad(\"../../data/Mathew/processed_seurat_salmon.h5ad\")"
   ]
  },
  {
   "cell_type": "code",
   "execution_count": null,
   "id": "b19b3228-b623-48d1-b4bf-2302df2863c2",
   "metadata": {},
   "outputs": [],
   "source": [
    "# convert cluster annotations to str\n",
    "cellranger.obs[\"cluster\"] = cellranger.obs['HC_16'].astype(\"str\")\n",
    "salmon.obs[\"cluster\"] = salmon.obs['HC_16'].astype(\"str\")"
   ]
  },
  {
   "cell_type": "markdown",
   "id": "6f38c618-be4d-4953-a54c-7f6996399747",
   "metadata": {},
   "source": [
    "### compare cellranger and salmon"
   ]
  },
  {
   "cell_type": "code",
   "execution_count": null,
   "id": "bd24de33-bff6-4f92-bfae-9bfdc3dcf50b",
   "metadata": {},
   "outputs": [],
   "source": [
    "# create colormap for UMAP\n",
    "\n",
    "# list of HEX colors\n",
    "hex_colors = [\"#CD665F\", \"#BF781C\", \"#AB871D\", \"#92941D\", \"#77A119\", \"#57AA17\", \"#64B15A\", \"#5CB488\",\n",
    "              \"#61AFB4\", \"#5AA6DC\", \"#5A91F8\", \"#7D7AFA\", \"#A760FA\", \"#C54FE4\", \"#CB4EC0\", \"#D3558E\"]\n",
    "\n",
    "# convert HEX colors to RGB\n",
    "rgb_colors = [(int(color[1:3], 16)/255, int(color[3:5], 16)/255, int(color[5:7], 16)/255) for color in hex_colors]\n",
    "\n",
    "# create colormap\n",
    "cmap = ListedColormap(rgb_colors)\n",
    "\n",
    "# create dictionary to assign colors to clusters\n",
    "clusters = [\"1\", \"2\", \"3\", \"4\", \"5\", \"6\", \"7\", \"8\", \"9\", \"10\", \"11\", \"12\", \"13\", \"14\", \"15\", \"16\"]\n",
    "umap_colors = {}\n",
    "i = 0\n",
    "for cluster in clusters:\n",
    "    umap_colors[cluster] = cmap.colors[i]\n",
    "    i+=1"
   ]
  },
  {
   "cell_type": "code",
   "execution_count": null,
   "id": "e839f632-b6b7-45b8-af3c-2902237023e8",
   "metadata": {},
   "outputs": [],
   "source": [
    "sc.pl.umap(cellranger, color=\"cluster\", dimensions=(0,1), palette=umap_colors, legend_loc=\"on data\")"
   ]
  },
  {
   "cell_type": "code",
   "execution_count": null,
   "id": "78702127-ab23-41a7-91ec-8a37fca106b1",
   "metadata": {},
   "outputs": [],
   "source": [
    "sc.pl.umap(salmon, color=\"cluster\", dimensions=(0,1), palette=umap_colors, legend_loc=\"on data\")"
   ]
  },
  {
   "cell_type": "markdown",
   "id": "54310688-5d59-4e8a-8c75-90b96b2d6a5c",
   "metadata": {},
   "source": [
    "### cluster annotation"
   ]
  },
  {
   "cell_type": "code",
   "execution_count": null,
   "id": "83e2d029-c353-419c-9619-6d1e933cabe1",
   "metadata": {},
   "outputs": [],
   "source": [
    "# markers described in Mathew et al. paper\n",
    "markers = [\"Ighd\", \"Aicda\", \"Bcl6\", \"Mki67\", \"Cd83\", \"Cd38\", \"Cxcr4\", \"Ly6d\", \"Cd1d1\", \"Foxo1\", \"Ccr6\", \"Irf4\", \"Sdc1\", \"Prdm1\"]\n",
    "sc.tl.dendrogram(cellranger, groupby=\"cluster\", var_names=markers)\n",
    "sc.pl.dotplot(cellranger, markers, groupby='cluster', cmap=\"coolwarm\", layer=\"counts\", standard_scale=\"var\", dendrogram=True, swap_axes=True)"
   ]
  },
  {
   "cell_type": "code",
   "execution_count": null,
   "id": "bffa9795-8214-49a7-87df-c8411eae6b00",
   "metadata": {},
   "outputs": [],
   "source": [
    "# markers of Fig1\n",
    "\n",
    "markers = [\"Cr2\", \"Cd1d1\", \"Cd9\", \"Lars2\", \"Ccr7\", \"Ebf1\", \"Btg1\", \"Cd79a\", \"Ighm\", \"Fcmr\", \"Ighd\", \"Cd74\", \n",
    "           \"Sell\", \"Fcer2a\", \"Junb\", \"Nr4a1\", \"Cd69\", \"Cd83\", \"Npm1\", \"Eif5a\", \"Ran\", \"Mif\", \"Eif4a1\", \n",
    "           \"Hmces\", \"Ppia\", \"Top1\", \"Hmgb1\", \"Hmgb2\", \"Tuba1b\", \"Top2a\", \"Ptma\", \"Tubb5\", \"Aicda\", \"Tnfrsf13c\", \n",
    "           \"Actb\", \"Bcl6\", \"Bach2\", \"Zbtb20\", \"Mki67\", \"Foxo1\", \"Ptprc\", \"Apoe\", \"Plac8\", \"Vim\", \"Cd38\", \"Xbp1\", \"Jchain\", \"Slpi\", \"Sdc1\", \"Prdm1\"]\n",
    "\n",
    "sc.tl.dendrogram(cellranger, groupby=\"cluster\", var_names=markers)\n",
    "sc.pl.dotplot(cellranger, markers, groupby='cluster', cmap=\"coolwarm\", standard_scale=\"var\", dendrogram=True, swap_axes=True)"
   ]
  },
  {
   "cell_type": "markdown",
   "id": "87ba4e1d-2c4d-4155-88ad-ad27a6cbf364",
   "metadata": {},
   "source": [
    "#### Naive"
   ]
  },
  {
   "cell_type": "code",
   "execution_count": null,
   "id": "4d9960df-04a9-49cd-a6e9-79dd50cc91ea",
   "metadata": {},
   "outputs": [],
   "source": [
    "# markers: Ccr7, Ebf1, Cd74, and Nr4a1 (Nur77)\n",
    "naive_markers = [\"Ccr7\", \"Ebf1\", \"Cd74\", \"Nr4a1\"]\n",
    "\n",
    "sc.pl.dotplot(cellranger, naive_markers, groupby='cluster', cmap=\"coolwarm\", layer=\"counts\", standard_scale=\"var\", dendrogram=True, swap_axes=True)"
   ]
  },
  {
   "cell_type": "markdown",
   "id": "3ae6a4ea-1646-4d10-9f71-dd736bd5bc87",
   "metadata": {},
   "source": [
    "--> Naive: 16, 9, 13"
   ]
  },
  {
   "cell_type": "markdown",
   "id": "3016b67a-b978-455a-9b78-c0626aae4539",
   "metadata": {},
   "source": [
    "#### Plasma B cells"
   ]
  },
  {
   "cell_type": "code",
   "execution_count": null,
   "id": "21471f9d-982c-4858-b869-1e27e0e65d14",
   "metadata": {},
   "outputs": [],
   "source": [
    "# markers: Irf4, Slpi, Sdc1, and Prdm1\n",
    "pb_markers = [\"Irf4\", \"Slpi\", \"Sdc1\", \"Prdm1\"]\n",
    "\n",
    "sc.pl.dotplot(cellranger, pb_markers, groupby='cluster', cmap=\"coolwarm\", layer=\"counts\", standard_scale=\"var\", dendrogram=True, swap_axes=True)"
   ]
  },
  {
   "cell_type": "markdown",
   "id": "09101054-5a33-4a55-bf77-465897f87744",
   "metadata": {},
   "source": [
    "--> cluster 12"
   ]
  },
  {
   "cell_type": "markdown",
   "id": "faf93b92-524b-447b-94bf-7c0ca4182a8b",
   "metadata": {},
   "source": [
    "#### Marginal zone"
   ]
  },
  {
   "cell_type": "code",
   "execution_count": null,
   "id": "20553bc9-6f25-45e1-bb5e-2fc2dbf22bfe",
   "metadata": {},
   "outputs": [],
   "source": [
    "# markers: Cd1d1 and Cd9\n",
    "mz_markers = [\"Cd1d1\", \"Cd9\"]\n",
    "\n",
    "sc.pl.dotplot(cellranger, mz_markers, groupby='cluster', cmap=\"coolwarm\", layer=\"counts\", standard_scale=\"var\", dendrogram=True, swap_axes=True)"
   ]
  },
  {
   "cell_type": "markdown",
   "id": "0a13dbf1-9a87-427e-a99d-f3ecdc3e6fde",
   "metadata": {},
   "source": [
    "--> cluster 14"
   ]
  },
  {
   "cell_type": "markdown",
   "id": "b3c85e8b-729a-4804-a111-c20df2727ca2",
   "metadata": {},
   "source": [
    "#### Memory"
   ]
  },
  {
   "cell_type": "code",
   "execution_count": null,
   "id": "bced3c4f-951c-4e32-8ee7-3d671e90ab22",
   "metadata": {},
   "outputs": [],
   "source": [
    "# marker expression\n",
    "mem_markers = [\"Ccr6\", \"Ski\", \"Klf2\", \"Bcl2\"]\n",
    "\n",
    "sc.pl.dotplot(cellranger, mem_markers, groupby='cluster', cmap=\"coolwarm\", layer=\"counts\", standard_scale=\"var\", dendrogram=True, swap_axes=True)"
   ]
  },
  {
   "cell_type": "markdown",
   "id": "1e3fbe72-08a8-48ac-958a-a32aed6709cb",
   "metadata": {},
   "source": [
    "--> cluster 15"
   ]
  },
  {
   "cell_type": "markdown",
   "id": "c5e31234-8157-4135-bf33-504647157458",
   "metadata": {},
   "source": [
    "#### Pre-Memory"
   ]
  },
  {
   "cell_type": "code",
   "execution_count": null,
   "id": "46b31dc5-11c0-47a9-8c07-e54844aad569",
   "metadata": {},
   "outputs": [],
   "source": [
    "# markers: Mki67, Aicda, Bcl6, Cd22, Bach2, and Foxo1\n",
    "\n",
    "pre_markers = [\"Mki67\", \"Aicda\", \"Bcl6\", \"Cd22\", \"Bach2\", \"Foxo1\"]\n",
    "sc.pl.dotplot(cellranger, pre_markers, groupby='cluster', cmap=\"coolwarm\", \n",
    "              layer=\"counts\", standard_scale=\"var\", dendrogram=True, swap_axes=True)"
   ]
  },
  {
   "cell_type": "markdown",
   "id": "f5197369-732b-44f7-93dd-6a5053d8f168",
   "metadata": {},
   "source": [
    "--> cluster 6"
   ]
  },
  {
   "cell_type": "markdown",
   "id": "33393063-6828-4f03-96c5-b11a01b1b78f",
   "metadata": {},
   "source": [
    "#### Germinal center cells"
   ]
  },
  {
   "cell_type": "code",
   "execution_count": null,
   "id": "fd161b49-0652-4d5d-a63d-d015cae10883",
   "metadata": {},
   "outputs": [],
   "source": [
    "# gc cells\n",
    "gc_markers = [\"Cd83\", \"Cd86\", \"Cxcr4\", \"Cxcr5\"]\n",
    "# [\"Foxp1\", \"Tcf3\", \"Hmmr\", \"Il4i1\", \"Nfkbia\", \"Irf4\", \"Cd69\", \"Socs3\", \"Bcl2a1a\", \"Myc\", \"Egr1\", \"Egr2\", \"Plscr1\", \"Lifr\", \"S1pr3\", \"Slamf1\", \"Ptger4\", \"Cd40\", \"Ccr6\", \"Gpr183\"]\n",
    "sc.pl.dotplot(cellranger, gc_markers, groupby='cluster', cmap=\"coolwarm\", layer=\"counts\", standard_scale=\"var\", dendrogram=True, swap_axes=True)"
   ]
  },
  {
   "cell_type": "code",
   "execution_count": null,
   "id": "a2e64418-b140-4f55-a3cb-c7f3cbc9cb61",
   "metadata": {},
   "outputs": [],
   "source": [
    "# GC light zone\n",
    "\n",
    "# [\"Cxcr5\", \"Nfkbia\", \"Myc\", \"Egr1\", \"Egr2\",\"Irf4\", \"Cd69\", \"Socs3\", \"Cd83\", \"Bcl2a1a\", \n",
    "#              \"Plscr1\", \"Lifr\", \"S1pr3\", \"Slamf1\", \"Ptger4\", \"Cd40\", \"Ccr6\", \"Gpr183\"]\n",
    "\n",
    "lz_markers = [\"Cxcr5\", \"Nfkbia\", \"Myc\", \"Egr1\", \"Slamf1\"]\n",
    "sc.pl.dotplot(cellranger, lz_markers, groupby='cluster', cmap=\"coolwarm\", layer=\"counts\", standard_scale=\"var\", dendrogram=True, swap_axes=True)"
   ]
  },
  {
   "cell_type": "markdown",
   "id": "4104c7b0-1e28-47ac-b607-7bebfcda6914",
   "metadata": {},
   "source": [
    "--> cluster 1, 2 and 3"
   ]
  },
  {
   "cell_type": "code",
   "execution_count": null,
   "id": "5ab6c5af-bf77-47e4-b790-8581da82da36",
   "metadata": {},
   "outputs": [],
   "source": [
    "# GC dark zone\n",
    "dz_markers = [\"Foxp1\", \"Tcf3\", \"Cxcr4\", \"Hmmr\"]\n",
    "sc.pl.dotplot(cellranger, dz_markers, groupby='cluster', cmap=\"coolwarm\", layer=\"counts\", standard_scale=\"var\", dendrogram=True, swap_axes=True)"
   ]
  },
  {
   "cell_type": "markdown",
   "id": "4727876c-0bd2-46f2-a675-aae6f1df627d",
   "metadata": {},
   "source": [
    "--> cluster 10, 4, 7, 5"
   ]
  },
  {
   "cell_type": "markdown",
   "id": "67136868-6edf-4fb1-95a6-9c623f7e38b8",
   "metadata": {},
   "source": [
    "--> S-phase: cluster 4 and 5 \\\n",
    "--> G2M phase: cluster 7 and 10"
   ]
  },
  {
   "cell_type": "markdown",
   "id": "1b5c8dd1-dbbf-46aa-82cf-1861980a80ff",
   "metadata": {},
   "source": [
    "### final annotation of clusters"
   ]
  },
  {
   "cell_type": "code",
   "execution_count": null,
   "id": "cf0de1d5-d2c4-4ce0-984e-ea99148942b5",
   "metadata": {},
   "outputs": [],
   "source": [
    "cellranger.obs[\"cluster\"].replace(\"16\", \"C1\", inplace=True)\n",
    "cellranger.obs[\"cluster\"].replace(\"13\", \"C2\", inplace=True)\n",
    "cellranger.obs[\"cluster\"].replace(\"11\", \"C3\", inplace=True)\n",
    "cellranger.obs[\"cluster\"].replace(\"9\", \"C4\", inplace=True)\n",
    "cellranger.obs[\"cluster\"].replace(\"15\", \"C5\", inplace=True)\n",
    "cellranger.obs[\"cluster\"].replace(\"14\", \"C6\", inplace=True)\n",
    "cellranger.obs[\"cluster\"].replace(\"12\", \"C7\", inplace=True)\n",
    "cellranger.obs[\"cluster\"].replace(\"5\", \"C8\", inplace=True)\n",
    "cellranger.obs[\"cluster\"].replace(\"6\", \"C9\", inplace=True)\n",
    "cellranger.obs[\"cluster\"].replace(\"4\", \"C10\", inplace=True)\n",
    "cellranger.obs[\"cluster\"].replace(\"3\", \"C11\", inplace=True)\n",
    "cellranger.obs[\"cluster\"].replace(\"2\", \"C12\", inplace=True)\n",
    "cellranger.obs[\"cluster\"].replace(\"1\", \"C13\", inplace=True)\n",
    "cellranger.obs[\"cluster\"].replace(\"8\", \"C14\", inplace=True)\n",
    "cellranger.obs[\"cluster\"].replace(\"7\", \"C15\", inplace=True)\n",
    "cellranger.obs[\"cluster\"].replace(\"10\", \"C16\", inplace=True)"
   ]
  },
  {
   "cell_type": "markdown",
   "id": "1dcf53dc-6de7-460b-8f49-4217341f274b",
   "metadata": {},
   "source": [
    "### UMAP"
   ]
  },
  {
   "cell_type": "code",
   "execution_count": null,
   "id": "24bb6df5-bc7c-45e6-b07f-724fb451fc34",
   "metadata": {},
   "outputs": [],
   "source": [
    "# create colormap for UMAP\n",
    "\n",
    "# list of HEX colors\n",
    "hex_colors = [\"#CD665F\", \"#BF781C\", \"#AB871D\", \"#92941D\", \"#77A119\", \"#57AA17\", \"#64B15A\", \"#5CB488\",\n",
    "              \"#61AFB4\", \"#5AA6DC\", \"#5A91F8\", \"#7D7AFA\", \"#A760FA\", \"#C54FE4\", \"#CB4EC0\", \"#D3558E\"]\n",
    "\n",
    "# convert HEX colors to RGB\n",
    "rgb_colors = [(int(color[1:3], 16)/255, int(color[3:5], 16)/255, int(color[5:7], 16)/255) for color in hex_colors]\n",
    "\n",
    "# create colormap\n",
    "cmap = ListedColormap(rgb_colors)\n",
    "\n",
    "# create dictionary to assign colors to clusters\n",
    "clusters = [\"C1\", \"C2\", \"C3\", \"C4\", \"C5\", \"C6\", \"C7\", \"C8\", \"C9\", \"C10\", \"C11\", \"C12\", \"C13\", \"C14\", \"C15\", \"C16\"]\n",
    "umap_colors = {}\n",
    "i = 0\n",
    "for cluster in clusters:\n",
    "    umap_colors[cluster] = cmap.colors[i]\n",
    "    i+=1"
   ]
  },
  {
   "cell_type": "code",
   "execution_count": null,
   "id": "5eb1aa35-35a1-41f9-b107-ffe467727585",
   "metadata": {},
   "outputs": [],
   "source": [
    "sc.pl.umap(cellranger, color=\"cluster\", dimensions=(0,1), palette=umap_colors, legend_loc=\"on data\")"
   ]
  },
  {
   "cell_type": "markdown",
   "id": "3848ac9d-12df-4de5-84c8-ccd4c796b792",
   "metadata": {},
   "source": [
    "### subset data by intersection of processed cellranger and salmon"
   ]
  },
  {
   "cell_type": "code",
   "execution_count": null,
   "id": "09ca40ad-00a9-4453-b26d-8a3127f66d55",
   "metadata": {},
   "outputs": [],
   "source": [
    "# get intersection of cells\n",
    "venny4py({\"Cellranger\": set(cellranger.obs_names.tolist()),\n",
    "         \"Salmon\": set(salmon.obs_names.tolist())})\n",
    "plt.title(\"Intersection of cells\");"
   ]
  },
  {
   "cell_type": "code",
   "execution_count": null,
   "id": "821d8383-274f-4308-8221-2b259d0ee4c7",
   "metadata": {},
   "outputs": [],
   "source": [
    "# get intersection of genes\n",
    "venny4py({\"Cellranger\": set(cellranger.var_names.tolist()),\n",
    "         \"Salmon\": set(salmon.var_names.tolist())})\n",
    "plt.title(\"Intersection of genes\");"
   ]
  },
  {
   "cell_type": "code",
   "execution_count": null,
   "id": "b85d7ef2-a571-4c82-b92d-c7856fd7349d",
   "metadata": {},
   "outputs": [],
   "source": [
    "# subset\n",
    "common_cells = list(set(cellranger.obs_names.tolist()).intersection(salmon.obs_names.tolist()))\n",
    "common_genes = list(set(cellranger.var_names.tolist()).intersection(salmon.var_names.tolist()))\n",
    "\n",
    "cellranger_subset = cellranger[common_cells, common_genes]\n",
    "salmon_subset = salmon[common_cells, common_genes]"
   ]
  },
  {
   "cell_type": "code",
   "execution_count": null,
   "id": "1fec4ad0-270c-4b38-843b-bba2ada0c60c",
   "metadata": {},
   "outputs": [],
   "source": [
    "# plot remaining cells\n",
    "sc.pl.umap(cellranger_subset, color=\"cluster\", dimensions=(0,1), palette=umap_colors, legend_loc=\"on data\")"
   ]
  },
  {
   "cell_type": "markdown",
   "id": "517e2557-0e5f-43d1-b703-503a1b63692b",
   "metadata": {},
   "source": [
    "--> many cells of clusters 4, 7 and 5 missing "
   ]
  },
  {
   "cell_type": "markdown",
   "id": "3e819d8b-6716-48c4-969f-25b63ebc98f2",
   "metadata": {},
   "source": [
    "### add layers, obs and var to salmon"
   ]
  },
  {
   "cell_type": "code",
   "execution_count": null,
   "id": "04a1b2da-9e8f-4a91-b6eb-9e0d2ae7f481",
   "metadata": {},
   "outputs": [],
   "source": [
    "# get unprocessed salmon data\n",
    "salmon_raw = sc.read_h5ad(\"../../data/Mathew/mathew_salmon_raw.h5ad\")\n",
    "salmon_raw.var_names_make_unique()"
   ]
  },
  {
   "cell_type": "code",
   "execution_count": null,
   "id": "53d9294c-2f21-4805-b9e5-53c6d995b243",
   "metadata": {},
   "outputs": [],
   "source": [
    "# get common cells and genes with processed salmon\n",
    "salmon_raw = salmon_raw[salmon_subset.obs_names, salmon_subset.var_names]"
   ]
  },
  {
   "cell_type": "code",
   "execution_count": null,
   "id": "4686a4f4-0c56-45d9-ba9d-53e6c51aad87",
   "metadata": {},
   "outputs": [],
   "source": [
    "# add u + s + a counts\n",
    "salmon_subset.layers[\"unspliced\"] = salmon_raw.layers[\"unspliced\"]\n",
    "salmon_subset.layers[\"spliced\"] = salmon_raw.layers[\"spliced\"]\n",
    "salmon_subset.layers[\"ambiguous\"] = salmon_raw.layers[\"ambiguous\"]"
   ]
  },
  {
   "cell_type": "code",
   "execution_count": null,
   "id": "d434616a-67f4-48f0-9056-185446aab1a3",
   "metadata": {},
   "outputs": [],
   "source": [
    "# get same clusters, HVGs, PCs, neighborhood graph, UMAP as in cellranger\n",
    "salmon_subset.obs[\"cluster\"] = cellranger_subset.obs[\"cluster\"]\n",
    "\n",
    "salmon_subset.var[\"vst.variable\"] = cellranger_subset.var[\"vst.variable\"]\n",
    "salmon_subset.var[\"highly_variable\"] = cellranger_subset.var[\"highly_variable\"]\n",
    "\n",
    "salmon_subset.uns[\"pca\"] = cellranger_subset.uns[\"pca\"]\n",
    "salmon_subset.obsm[\"X_pca\"] = cellranger_subset.obsm[\"X_pca\"]\n",
    "\n",
    "cellranger_subset.obsp[\"connectivities\"] = cellranger_subset.obsp[\"SNN\"]\n",
    "salmon_subset.obsp[\"connectivities\"] = cellranger_subset.obsp[\"connectivities\"]\n",
    "\n",
    "salmon_subset.obsm[\"X_mnn\"] = cellranger_subset.obsm[\"X_mnn\"]\n",
    "\n",
    "salmon_subset.obsm[\"X_umap\"] = cellranger_subset.obsm[\"X_umap\"]"
   ]
  },
  {
   "cell_type": "markdown",
   "id": "2f97e16c-6ea0-4727-945b-0977982e90e8",
   "metadata": {},
   "source": [
    "### save"
   ]
  },
  {
   "cell_type": "code",
   "execution_count": null,
   "id": "4e17a327-bb6d-4f8d-8039-aefa2558d16b",
   "metadata": {},
   "outputs": [],
   "source": [
    "cellranger_subset.write_h5ad(\"../../data/Mathew/mathew_cellranger.h5ad\")\n",
    "salmon_subset.write_h5ad(\"../../data/Mathew/mathew_salmon.h5ad\")"
   ]
  }
 ],
 "metadata": {
  "kernelspec": {
   "display_name": "env1",
   "language": "python",
   "name": "env1"
  },
  "language_info": {
   "codemirror_mode": {
    "name": "ipython",
    "version": 3
   },
   "file_extension": ".py",
   "mimetype": "text/x-python",
   "name": "python",
   "nbconvert_exporter": "python",
   "pygments_lexer": "ipython3",
   "version": "3.11.0"
  }
 },
 "nbformat": 4,
 "nbformat_minor": 5
}
