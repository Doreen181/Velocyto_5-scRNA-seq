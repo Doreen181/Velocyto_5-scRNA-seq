{
 "cells": [
  {
   "cell_type": "markdown",
   "id": "53cea735-4939-4e91-90a0-f47e18541590",
   "metadata": {},
   "source": [
    "## preprocessing for CellRanger (Mathew data)"
   ]
  },
  {
   "cell_type": "code",
   "execution_count": 91,
   "id": "f17d2efb-4b1b-4aa8-8126-9edce4df406c",
   "metadata": {},
   "outputs": [],
   "source": [
    "import numpy as np\n",
    "import pandas as pd\n",
    "import os\n",
    "import scanpy as sc\n",
    "import anndata as ad\n",
    "from scipy.sparse import csr_matrix\n",
    "import matplotlib.pyplot as plt\n",
    "from matplotlib.colors import ListedColormap\n",
    "from matplotlib_venn import venn2\n",
    "import scvelo as scv\n",
    "import re\n",
    "import louvain\n",
    "from skmisc.loess import loess\n",
    "from skbio.diversity.alpha import simpson, gini_index\n",
    "import warnings\n",
    "import sys\n",
    "import ensembl_rest\n",
    "import time"
   ]
  },
  {
   "cell_type": "markdown",
   "id": "0bc915d4-2923-49ff-9310-0deb7e110aae",
   "metadata": {},
   "source": [
    "#### create colormap for UMAPs"
   ]
  },
  {
   "cell_type": "code",
   "execution_count": 7,
   "id": "dd00dfc7-3d64-4ac1-a4cd-662681ed373a",
   "metadata": {},
   "outputs": [],
   "source": [
    "# list of HEX colors\n",
    "hex_colors = [\"#CD665F\", \"#BF781C\", \"#AB871D\", \"#92941D\", \"#77A119\", \"#57AA17\", \"#64B15A\", \"#5CB488\",\n",
    "              \"#61AFB4\", \"#5AA6DC\", \"#5A91F8\", \"#7D7AFA\", \"#A760FA\", \"#C54FE4\", \"#CB4EC0\", \"#D3558E\"]\n",
    "\n",
    "# convert HEX colors to RGB\n",
    "rgb_colors = [(int(color[1:3], 16)/255, int(color[3:5], 16)/255, int(color[5:7], 16)/255) for color in hex_colors]\n",
    "\n",
    "# create colormap\n",
    "cmap = ListedColormap(rgb_colors)\n",
    "\n",
    "# create dictionary to assign colors to clusters\n",
    "clusters = [\"C1\", \"C2\", \"C3\", \"C4\", \"C5\", \"C6\", \"C7\", \"C8\", \"C9\", \"C10\", \"C11\", \"C12\", \"C13\", \"C14\", \"C15\", \"C16\"]\n",
    "umap_colors = {}\n",
    "i = 0\n",
    "for cluster in clusters:\n",
    "    umap_colors[cluster] = cmap.colors[i]\n",
    "    i+=1"
   ]
  },
  {
   "cell_type": "markdown",
   "id": "30d5457a-d8a3-45f4-98a2-8d5692539985",
   "metadata": {},
   "source": [
    "### load expression matrices"
   ]
  },
  {
   "cell_type": "code",
   "execution_count": 8,
   "id": "0d745434-f68a-4c5b-a8dc-f4ceee61b1d5",
   "metadata": {},
   "outputs": [
    {
     "data": {
      "text/html": [
       "<div>\n",
       "<style scoped>\n",
       "    .dataframe tbody tr th:only-of-type {\n",
       "        vertical-align: middle;\n",
       "    }\n",
       "\n",
       "    .dataframe tbody tr th {\n",
       "        vertical-align: top;\n",
       "    }\n",
       "\n",
       "    .dataframe thead th {\n",
       "        text-align: right;\n",
       "    }\n",
       "</style>\n",
       "<table border=\"1\" class=\"dataframe\">\n",
       "  <thead>\n",
       "    <tr style=\"text-align: right;\">\n",
       "      <th></th>\n",
       "      <th>assay</th>\n",
       "      <th>chemistry</th>\n",
       "      <th>mouse_nr</th>\n",
       "      <th>infection</th>\n",
       "      <th>day_post_infection</th>\n",
       "      <th>organ</th>\n",
       "      <th>organ_day</th>\n",
       "      <th>name</th>\n",
       "    </tr>\n",
       "    <tr>\n",
       "      <th>dataset</th>\n",
       "      <th></th>\n",
       "      <th></th>\n",
       "      <th></th>\n",
       "      <th></th>\n",
       "      <th></th>\n",
       "      <th></th>\n",
       "      <th></th>\n",
       "      <th></th>\n",
       "    </tr>\n",
       "  </thead>\n",
       "  <tbody>\n",
       "    <tr>\n",
       "      <th>SampleID_1_27feb19</th>\n",
       "      <td>rna</td>\n",
       "      <td>v2</td>\n",
       "      <td>M7</td>\n",
       "      <td>naive</td>\n",
       "      <td>D0</td>\n",
       "      <td>spleen</td>\n",
       "      <td>spleen0</td>\n",
       "      <td>spleen0_1</td>\n",
       "    </tr>\n",
       "    <tr>\n",
       "      <th>SampleID_2_29apr19</th>\n",
       "      <td>rna</td>\n",
       "      <td>v2</td>\n",
       "      <td>M8</td>\n",
       "      <td>naive</td>\n",
       "      <td>D0</td>\n",
       "      <td>spleen</td>\n",
       "      <td>spleen0</td>\n",
       "      <td>spleen0_2</td>\n",
       "    </tr>\n",
       "    <tr>\n",
       "      <th>SampleID_51_24feb20</th>\n",
       "      <td>rna</td>\n",
       "      <td>v2</td>\n",
       "      <td>M9</td>\n",
       "      <td>infected</td>\n",
       "      <td>D7</td>\n",
       "      <td>spleen</td>\n",
       "      <td>spleen7</td>\n",
       "      <td>spleen7_1</td>\n",
       "    </tr>\n",
       "    <tr>\n",
       "      <th>SampleID_54_24feb20</th>\n",
       "      <td>rna</td>\n",
       "      <td>v2</td>\n",
       "      <td>M10</td>\n",
       "      <td>infected</td>\n",
       "      <td>D7</td>\n",
       "      <td>spleen</td>\n",
       "      <td>spleen7</td>\n",
       "      <td>spleen7_2</td>\n",
       "    </tr>\n",
       "    <tr>\n",
       "      <th>SampleID_2_27feb19</th>\n",
       "      <td>rna</td>\n",
       "      <td>v2</td>\n",
       "      <td>M1</td>\n",
       "      <td>infected</td>\n",
       "      <td>D14</td>\n",
       "      <td>spleen</td>\n",
       "      <td>spleen14</td>\n",
       "      <td>spleen14_1</td>\n",
       "    </tr>\n",
       "    <tr>\n",
       "      <th>SampleID_4_2apr19</th>\n",
       "      <td>rna</td>\n",
       "      <td>v2</td>\n",
       "      <td>M2</td>\n",
       "      <td>infected</td>\n",
       "      <td>D14</td>\n",
       "      <td>spleen</td>\n",
       "      <td>spleen14</td>\n",
       "      <td>spleen14_2</td>\n",
       "    </tr>\n",
       "    <tr>\n",
       "      <th>SampleID_4_26apr19</th>\n",
       "      <td>rna</td>\n",
       "      <td>v2</td>\n",
       "      <td>M3</td>\n",
       "      <td>infected</td>\n",
       "      <td>D14</td>\n",
       "      <td>spleen</td>\n",
       "      <td>spleen14</td>\n",
       "      <td>spleen14_2</td>\n",
       "    </tr>\n",
       "    <tr>\n",
       "      <th>SampleID_3_27feb19</th>\n",
       "      <td>rna</td>\n",
       "      <td>v2</td>\n",
       "      <td>M4</td>\n",
       "      <td>infected</td>\n",
       "      <td>D28</td>\n",
       "      <td>spleen</td>\n",
       "      <td>spleen28</td>\n",
       "      <td>spleen28_1</td>\n",
       "    </tr>\n",
       "    <tr>\n",
       "      <th>SampleID_4_1apr19</th>\n",
       "      <td>rna</td>\n",
       "      <td>v2</td>\n",
       "      <td>M5</td>\n",
       "      <td>infected</td>\n",
       "      <td>D28</td>\n",
       "      <td>spleen</td>\n",
       "      <td>spleen28</td>\n",
       "      <td>spleen28_2</td>\n",
       "    </tr>\n",
       "    <tr>\n",
       "      <th>SampleID_52_24feb20</th>\n",
       "      <td>rna</td>\n",
       "      <td>v2</td>\n",
       "      <td>M9</td>\n",
       "      <td>infected</td>\n",
       "      <td>D7</td>\n",
       "      <td>mln</td>\n",
       "      <td>mln7</td>\n",
       "      <td>mln7_1</td>\n",
       "    </tr>\n",
       "    <tr>\n",
       "      <th>SampleID_55_24feb20</th>\n",
       "      <td>rna</td>\n",
       "      <td>v2</td>\n",
       "      <td>M10</td>\n",
       "      <td>infected</td>\n",
       "      <td>D7</td>\n",
       "      <td>mln</td>\n",
       "      <td>mln7</td>\n",
       "      <td>mln7_2</td>\n",
       "    </tr>\n",
       "    <tr>\n",
       "      <th>SampleID_1_14mar19</th>\n",
       "      <td>rna</td>\n",
       "      <td>v2</td>\n",
       "      <td>M1</td>\n",
       "      <td>infected</td>\n",
       "      <td>D14</td>\n",
       "      <td>mln</td>\n",
       "      <td>mln14</td>\n",
       "      <td>mln14_1</td>\n",
       "    </tr>\n",
       "    <tr>\n",
       "      <th>SampleID_5_2apr19</th>\n",
       "      <td>rna</td>\n",
       "      <td>v2</td>\n",
       "      <td>M2</td>\n",
       "      <td>infected</td>\n",
       "      <td>D14</td>\n",
       "      <td>mln</td>\n",
       "      <td>mln14</td>\n",
       "      <td>mln14_2</td>\n",
       "    </tr>\n",
       "    <tr>\n",
       "      <th>SampleID_5_26apr19</th>\n",
       "      <td>rna</td>\n",
       "      <td>v2</td>\n",
       "      <td>M3</td>\n",
       "      <td>infected</td>\n",
       "      <td>D14</td>\n",
       "      <td>mln</td>\n",
       "      <td>mln14</td>\n",
       "      <td>mln14_3</td>\n",
       "    </tr>\n",
       "    <tr>\n",
       "      <th>SampleID_2_14mar19</th>\n",
       "      <td>rna</td>\n",
       "      <td>v2</td>\n",
       "      <td>M4</td>\n",
       "      <td>infected</td>\n",
       "      <td>D28</td>\n",
       "      <td>mln</td>\n",
       "      <td>mln28</td>\n",
       "      <td>mln28_1</td>\n",
       "    </tr>\n",
       "    <tr>\n",
       "      <th>SampleID_2_2apr19</th>\n",
       "      <td>rna</td>\n",
       "      <td>v2</td>\n",
       "      <td>M5</td>\n",
       "      <td>infected</td>\n",
       "      <td>D28</td>\n",
       "      <td>mln</td>\n",
       "      <td>mln28</td>\n",
       "      <td>mln28_2</td>\n",
       "    </tr>\n",
       "    <tr>\n",
       "      <th>SampleID_3_26apr19</th>\n",
       "      <td>rna</td>\n",
       "      <td>v2</td>\n",
       "      <td>M6</td>\n",
       "      <td>infected</td>\n",
       "      <td>D28</td>\n",
       "      <td>mln</td>\n",
       "      <td>mln28</td>\n",
       "      <td>mln28_3</td>\n",
       "    </tr>\n",
       "    <tr>\n",
       "      <th>SampleID_3_29apr19</th>\n",
       "      <td>rna</td>\n",
       "      <td>v2</td>\n",
       "      <td>M8</td>\n",
       "      <td>naive</td>\n",
       "      <td>D0</td>\n",
       "      <td>lung</td>\n",
       "      <td>lung0</td>\n",
       "      <td>lung0_2</td>\n",
       "    </tr>\n",
       "    <tr>\n",
       "      <th>SampleID_53_24feb20</th>\n",
       "      <td>rna</td>\n",
       "      <td>v2</td>\n",
       "      <td>M9</td>\n",
       "      <td>infected</td>\n",
       "      <td>D7</td>\n",
       "      <td>lung</td>\n",
       "      <td>lung7</td>\n",
       "      <td>lung7_1</td>\n",
       "    </tr>\n",
       "    <tr>\n",
       "      <th>SampleID_1_26apr19</th>\n",
       "      <td>rna</td>\n",
       "      <td>v2</td>\n",
       "      <td>M2</td>\n",
       "      <td>infected</td>\n",
       "      <td>D14</td>\n",
       "      <td>lung</td>\n",
       "      <td>lung14</td>\n",
       "      <td>lung14_2</td>\n",
       "    </tr>\n",
       "    <tr>\n",
       "      <th>SampleID_1_29apr19</th>\n",
       "      <td>rna</td>\n",
       "      <td>v2</td>\n",
       "      <td>M3</td>\n",
       "      <td>infected</td>\n",
       "      <td>D14</td>\n",
       "      <td>lung</td>\n",
       "      <td>lung14</td>\n",
       "      <td>lung14_3</td>\n",
       "    </tr>\n",
       "    <tr>\n",
       "      <th>SampleID_5_14mar19</th>\n",
       "      <td>rna</td>\n",
       "      <td>v2</td>\n",
       "      <td>M4</td>\n",
       "      <td>infected</td>\n",
       "      <td>D28</td>\n",
       "      <td>lung</td>\n",
       "      <td>lung28</td>\n",
       "      <td>lung28_1</td>\n",
       "    </tr>\n",
       "    <tr>\n",
       "      <th>SampleID_1_2apr19</th>\n",
       "      <td>rna</td>\n",
       "      <td>v2</td>\n",
       "      <td>M5</td>\n",
       "      <td>infected</td>\n",
       "      <td>D28</td>\n",
       "      <td>lung</td>\n",
       "      <td>lung28</td>\n",
       "      <td>lung28_2</td>\n",
       "    </tr>\n",
       "    <tr>\n",
       "      <th>SampleID_2_26apr19</th>\n",
       "      <td>rna</td>\n",
       "      <td>v2</td>\n",
       "      <td>M6</td>\n",
       "      <td>infected</td>\n",
       "      <td>D28</td>\n",
       "      <td>lung</td>\n",
       "      <td>lung28</td>\n",
       "      <td>lung28_3</td>\n",
       "    </tr>\n",
       "  </tbody>\n",
       "</table>\n",
       "</div>"
      ],
      "text/plain": [
       "                    assay chemistry mouse_nr infection day_post_infection  \\\n",
       "dataset                                                                     \n",
       "SampleID_1_27feb19    rna        v2       M7     naive                 D0   \n",
       "SampleID_2_29apr19    rna        v2       M8     naive                 D0   \n",
       "SampleID_51_24feb20   rna        v2       M9  infected                 D7   \n",
       "SampleID_54_24feb20   rna        v2      M10  infected                 D7   \n",
       "SampleID_2_27feb19    rna        v2       M1  infected                D14   \n",
       "SampleID_4_2apr19     rna        v2       M2  infected                D14   \n",
       "SampleID_4_26apr19    rna        v2       M3  infected                D14   \n",
       "SampleID_3_27feb19    rna        v2       M4  infected                D28   \n",
       "SampleID_4_1apr19     rna        v2       M5  infected                D28   \n",
       "SampleID_52_24feb20   rna        v2       M9  infected                 D7   \n",
       "SampleID_55_24feb20   rna        v2      M10  infected                 D7   \n",
       "SampleID_1_14mar19    rna        v2       M1  infected                D14   \n",
       "SampleID_5_2apr19     rna        v2       M2  infected                D14   \n",
       "SampleID_5_26apr19    rna        v2       M3  infected                D14   \n",
       "SampleID_2_14mar19    rna        v2       M4  infected                D28   \n",
       "SampleID_2_2apr19     rna        v2       M5  infected                D28   \n",
       "SampleID_3_26apr19    rna        v2       M6  infected                D28   \n",
       "SampleID_3_29apr19    rna        v2       M8     naive                 D0   \n",
       "SampleID_53_24feb20   rna        v2       M9  infected                 D7   \n",
       "SampleID_1_26apr19    rna        v2       M2  infected                D14   \n",
       "SampleID_1_29apr19    rna        v2       M3  infected                D14   \n",
       "SampleID_5_14mar19    rna        v2       M4  infected                D28   \n",
       "SampleID_1_2apr19     rna        v2       M5  infected                D28   \n",
       "SampleID_2_26apr19    rna        v2       M6  infected                D28   \n",
       "\n",
       "                      organ organ_day        name  \n",
       "dataset                                            \n",
       "SampleID_1_27feb19   spleen   spleen0   spleen0_1  \n",
       "SampleID_2_29apr19   spleen   spleen0   spleen0_2  \n",
       "SampleID_51_24feb20  spleen   spleen7   spleen7_1  \n",
       "SampleID_54_24feb20  spleen   spleen7   spleen7_2  \n",
       "SampleID_2_27feb19   spleen  spleen14  spleen14_1  \n",
       "SampleID_4_2apr19    spleen  spleen14  spleen14_2  \n",
       "SampleID_4_26apr19   spleen  spleen14  spleen14_2  \n",
       "SampleID_3_27feb19   spleen  spleen28  spleen28_1  \n",
       "SampleID_4_1apr19    spleen  spleen28  spleen28_2  \n",
       "SampleID_52_24feb20     mln      mln7      mln7_1  \n",
       "SampleID_55_24feb20     mln      mln7      mln7_2  \n",
       "SampleID_1_14mar19      mln     mln14     mln14_1  \n",
       "SampleID_5_2apr19       mln     mln14     mln14_2  \n",
       "SampleID_5_26apr19      mln     mln14     mln14_3  \n",
       "SampleID_2_14mar19      mln     mln28     mln28_1  \n",
       "SampleID_2_2apr19       mln     mln28     mln28_2  \n",
       "SampleID_3_26apr19      mln     mln28     mln28_3  \n",
       "SampleID_3_29apr19     lung     lung0     lung0_2  \n",
       "SampleID_53_24feb20    lung     lung7     lung7_1  \n",
       "SampleID_1_26apr19     lung    lung14    lung14_2  \n",
       "SampleID_1_29apr19     lung    lung14    lung14_3  \n",
       "SampleID_5_14mar19     lung    lung28    lung28_1  \n",
       "SampleID_1_2apr19      lung    lung28    lung28_2  \n",
       "SampleID_2_26apr19     lung    lung28    lung28_3  "
      ]
     },
     "execution_count": 8,
     "metadata": {},
     "output_type": "execute_result"
    }
   ],
   "source": [
    "# load metadata\n",
    "meta = pd.read_csv(\"../data/metadata_2.csv\", index_col=0)\n",
    "meta"
   ]
  },
  {
   "cell_type": "code",
   "execution_count": 9,
   "id": "135ebada-282c-4bf7-b39f-ecc5b675d959",
   "metadata": {},
   "outputs": [],
   "source": [
    "adatas = []\n",
    "path = \"/mnt/volume/students/doreen/cellranger/mathew\"\n",
    "\n",
    "for _, folders, _ in os.walk(path):\n",
    "    for folder in folders:\n",
    "        \n",
    "        # get adata\n",
    "        adata = sc.read_10x_mtx(path + \"/\" + folder)\n",
    "        \n",
    "        # add metadata\n",
    "        for col_name, col_data in meta.loc[folder].items():\n",
    "            adata.obs[col_name] = col_data\n",
    "\n",
    "        # add ID\n",
    "        adata.obs[\"id\"] = folder\n",
    "\n",
    "        # append to list\n",
    "        adatas.append(adata)"
   ]
  },
  {
   "cell_type": "code",
   "execution_count": 10,
   "id": "db1893c9-287b-4565-88ca-18163939ced8",
   "metadata": {},
   "outputs": [
    {
     "data": {
      "text/plain": [
       "AnnData object with n_obs × n_vars = 58486 × 32285\n",
       "    obs: 'assay', 'chemistry', 'mouse_nr', 'infection', 'day_post_infection', 'organ', 'organ_day', 'name', 'id'"
      ]
     },
     "execution_count": 10,
     "metadata": {},
     "output_type": "execute_result"
    }
   ],
   "source": [
    "# merge all samples\n",
    "adata = ad.concat(adatas)\n",
    "adata"
   ]
  },
  {
   "cell_type": "markdown",
   "id": "9f4e251d-1acf-45b0-a61b-4a15ab24942a",
   "metadata": {},
   "source": [
    "### quality control and filtering"
   ]
  },
  {
   "cell_type": "code",
   "execution_count": 11,
   "id": "91633a10-96fd-42f8-8c35-29c829cb56a4",
   "metadata": {},
   "outputs": [],
   "source": [
    "# calculate quality control metrics\n",
    "sc.pp.calculate_qc_metrics(adata, inplace = True)"
   ]
  },
  {
   "cell_type": "markdown",
   "id": "c4aaad35-0cee-4f18-b600-90b762540416",
   "metadata": {},
   "source": [
    "#### filter cells"
   ]
  },
  {
   "cell_type": "code",
   "execution_count": 12,
   "id": "4e4c7d25-c3d0-48b9-9d91-8129a67536ab",
   "metadata": {},
   "outputs": [],
   "source": [
    "# number of unique features or total counts in top/bottom 0.5%\n",
    "sc.pp.filter_cells(adata, min_genes = np.percentile(adata.obs[\"n_genes_by_counts\"], 0.5))\n",
    "sc.pp.filter_cells(adata, max_genes = np.percentile(adata.obs[\"n_genes_by_counts\"], 99.5))\n",
    "sc.pp.filter_cells(adata, min_counts = np.percentile(adata.obs[\"total_counts\"], 0.5))\n",
    "sc.pp.filter_cells(adata, max_counts = np.percentile(adata.obs[\"total_counts\"], 99.5))"
   ]
  },
  {
   "cell_type": "code",
   "execution_count": 13,
   "id": "65446402-e101-425b-968b-339ef9475560",
   "metadata": {},
   "outputs": [],
   "source": [
    "# number of unique features < 200\n",
    "sc.pp.filter_cells(adata, min_genes = 200)"
   ]
  },
  {
   "cell_type": "code",
   "execution_count": 14,
   "id": "0e255be4-6a01-4d2f-990f-593a1042f136",
   "metadata": {},
   "outputs": [],
   "source": [
    "# percentage of mitochondrial counts / ribosomal > 25%\n",
    "\n",
    "# get mitochondrial, ribosomal genes\n",
    "adata.var[\"mt\"] = adata.var_names.str.startswith(\"mt-\")\n",
    "adata.var[\"ribo\"] = adata.var_names.str.startswith((\"Rps\", \"Rpl\"))\n",
    "\n",
    "# get percentages\n",
    "sc.pp.calculate_qc_metrics(adata, qc_vars=[\"mt\", \"ribo\"], inplace=True, percent_top=[25, 50, 75], log1p=True)\n",
    "\n",
    "# filter\n",
    "adata = adata[adata.obs.pct_counts_mt <= 25, :]\n",
    "adata = adata[adata.obs.pct_counts_ribo <= 25, :]"
   ]
  },
  {
   "cell_type": "code",
   "execution_count": 33,
   "id": "656df051-b8c9-48f1-af51-2d9d6e2ec9a7",
   "metadata": {},
   "outputs": [],
   "source": [
    "# Gini or Simpson diversity index < 0.8\n",
    "\n",
    "# calculate Simpson index per cell\n",
    "adata.obs[\"simpson\"] = [simpson(adata.X[i,:].toarray().flatten()) for i in range(adata.n_obs)]\n",
    "\n",
    "# calculate Gini index per cell\n",
    "adata.obs[\"gini\"] = [gini_index(adata.X[i,:].toarray().flatten()) for i in range(adata.n_obs)]\n",
    "\n",
    "# filter\n",
    "adata = adata[adata.obs.simpson >= 0.8, :]\n",
    "adata = adata[adata.obs.gini >= 0.8, :]"
   ]
  },
  {
   "cell_type": "markdown",
   "id": "c061e9de-b798-4d7a-94bc-88fda7f45c0e",
   "metadata": {},
   "source": [
    "#### filter genes"
   ]
  },
  {
   "cell_type": "code",
   "execution_count": 36,
   "id": "3ccc0c4c-ffe8-4b0c-9fb1-f64cfb0a5ae7",
   "metadata": {},
   "outputs": [],
   "source": [
    "# remove mitochondrial genes\n",
    "adata = adata[:,adata.var.mt == False]"
   ]
  },
  {
   "cell_type": "code",
   "execution_count": 103,
   "id": "9bf3a610-7fa1-4e3f-a124-696095935f76",
   "metadata": {},
   "outputs": [],
   "source": [
    "# define genes to keep\n",
    "keep = [\"Ighd\" \"Ighm\", \"Ighg1\", \"Ighg2c\", \"Ighg2b\", \"Ighg3\", \"Igha\", \"Ighe\"]\n",
    "adata.var[\"keep\"] = [gene in keep for gene in adata.var_names]"
   ]
  },
  {
   "cell_type": "code",
   "execution_count": 106,
   "id": "f00f332b-52cb-4845-8d65-91b5915d38b3",
   "metadata": {},
   "outputs": [],
   "source": [
    "# remove genes expressed in < 5 cells, but keep Ig genes\n",
    "adata = adata[:,((adata.var.total_counts >= 5) | (adata.var.keep == True))]"
   ]
  },
  {
   "cell_type": "code",
   "execution_count": 107,
   "id": "5788f724-c770-4df6-9793-900af2788cdf",
   "metadata": {},
   "outputs": [],
   "source": [
    "# function to look up biotype in ensembl database\n",
    "def get_biotype(species, gene):\n",
    "\n",
    "    # add waiting time to prevent server error\n",
    "    time.sleep(0.1)\n",
    "    \n",
    "    try:\n",
    "        return ensembl_rest.symbol_lookup(species, gene)[\"biotype\"]\n",
    "    # return None, if gene is not in ensembl database\n",
    "    except ensembl_rest.HTTPError as e:\n",
    "        return None"
   ]
  },
  {
   "cell_type": "code",
   "execution_count": 108,
   "id": "9e80e850-cc7a-4622-adb5-468c58e56896",
   "metadata": {},
   "outputs": [],
   "source": [
    "adata.var[\"biotype\"] = [get_biotype(\"mouse\", gene) for gene in adata.var_names]"
   ]
  },
  {
   "cell_type": "code",
   "execution_count": 113,
   "id": "c4413597-88c0-4320-accc-85057994d125",
   "metadata": {},
   "outputs": [],
   "source": [
    "# remove non protein-coding genes, but keep Ig genes\n",
    "adata = adata[:,((adata.var.biotype == \"protein_coding\") | (adata.var.keep == True))]"
   ]
  },
  {
   "cell_type": "markdown",
   "id": "4e7d3d94-0f51-40ad-b6db-1dabdd65b8c4",
   "metadata": {},
   "source": [
    "### result"
   ]
  },
  {
   "cell_type": "code",
   "execution_count": 114,
   "id": "edd73bee-e357-4df9-812e-c5982ebc0bb9",
   "metadata": {},
   "outputs": [
    {
     "data": {
      "text/plain": [
       "(39390, 15233)"
      ]
     },
     "execution_count": 114,
     "metadata": {},
     "output_type": "execute_result"
    }
   ],
   "source": [
    "adata.shape"
   ]
  },
  {
   "cell_type": "markdown",
   "id": "f779d9e8-9ec6-4971-9faf-cd0c4d526f9f",
   "metadata": {},
   "source": [
    "### normalization"
   ]
  },
  {
   "cell_type": "code",
   "execution_count": 116,
   "id": "ca22ce16-87f3-47c0-8d01-9ee1d69d5bb1",
   "metadata": {},
   "outputs": [],
   "source": [
    "# save unprocessed counts\n",
    "adata.layers[\"counts\"] = adata.X"
   ]
  },
  {
   "cell_type": "code",
   "execution_count": 117,
   "id": "27976e55-bfe5-4e77-a01e-cd3778a8e07d",
   "metadata": {},
   "outputs": [],
   "source": [
    "# normalization\n",
    "sc.pp.normalize_total(adata, target_sum=1000)"
   ]
  },
  {
   "cell_type": "code",
   "execution_count": 118,
   "id": "03934170-9ded-4721-a983-31b6596b9ee8",
   "metadata": {},
   "outputs": [],
   "source": [
    "# log transform\n",
    "sc.pp.log1p(adata)"
   ]
  },
  {
   "cell_type": "code",
   "execution_count": 120,
   "id": "493b6167-cbc7-4039-a908-13681176f687",
   "metadata": {},
   "outputs": [],
   "source": [
    "# scale\n",
    "sc.pp.scale(adata)"
   ]
  },
  {
   "cell_type": "code",
   "execution_count": 124,
   "id": "6f4121ae-6a0f-4082-b1ea-e31598e37c5f",
   "metadata": {},
   "outputs": [],
   "source": [
    "# regress out effects of number of features & percentage of mitochondrial counts\n",
    "sc.pp.regress_out(adata, [\"total_counts\", \"pct_counts_mt\"])"
   ]
  },
  {
   "cell_type": "code",
   "execution_count": 125,
   "id": "ed42c9c0-ff0a-4d0e-957d-75add2eec1fa",
   "metadata": {},
   "outputs": [],
   "source": [
    "# save\n",
    "adata.write_h5ad(\"/mnt/volume/students/doreen/data/Mathew/adata.h5ad\")"
   ]
  },
  {
   "cell_type": "markdown",
   "id": "20e82308-bc55-46a6-a41f-ae994db1d123",
   "metadata": {},
   "source": [
    "### data integration"
   ]
  },
  {
   "cell_type": "code",
   "execution_count": null,
   "id": "b014b59a-18c4-4d17-a5c2-d221dae3e58c",
   "metadata": {},
   "outputs": [],
   "source": []
  }
 ],
 "metadata": {
  "kernelspec": {
   "display_name": "env1",
   "language": "python",
   "name": "env1"
  },
  "language_info": {
   "codemirror_mode": {
    "name": "ipython",
    "version": 3
   },
   "file_extension": ".py",
   "mimetype": "text/x-python",
   "name": "python",
   "nbconvert_exporter": "python",
   "pygments_lexer": "ipython3",
   "version": "3.11.0"
  }
 },
 "nbformat": 4,
 "nbformat_minor": 5
}
